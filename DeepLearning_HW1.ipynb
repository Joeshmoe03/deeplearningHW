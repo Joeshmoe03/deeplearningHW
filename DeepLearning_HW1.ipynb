{
  "cells": [
    {
      "cell_type": "code",
      "execution_count": null,
      "metadata": {
        "id": "5cH1BdB79Qxp"
      },
      "outputs": [],
      "source": [
        "import sklearn\n",
        "import numpy as np\n",
        "from sklearn.datasets import load_diabetes"
      ]
    },
    {
      "cell_type": "code",
      "execution_count": null,
      "metadata": {
        "colab": {
          "base_uri": "https://localhost:8080/"
        },
        "id": "oIGboJWz9mL9",
        "outputId": "55de6f0d-139e-4ebb-fe4c-1912f76290ad"
      },
      "outputs": [
        {
          "name": "stdout",
          "output_type": "stream",
          "text": [
            "(442, 10)\n",
            "(442,)\n"
          ]
        }
      ],
      "source": [
        "#Check out dataset\n",
        "diabetes = load_diabetes()\n",
        "print(diabetes.data.shape)\n",
        "print(diabetes.target.shape)"
      ]
    },
    {
      "cell_type": "markdown",
      "metadata": {
        "id": "S0mmQHjfdo2T"
      },
      "source": [
        "# Problem 1B"
      ]
    },
    {
      "cell_type": "code",
      "execution_count": null,
      "metadata": {
        "id": "8ML_f8uL-hNq"
      },
      "outputs": [],
      "source": [
        "# Save the data\n",
        "X = diabetes.data\n",
        "X_transpose = X.T\n",
        "y = diabetes.target\n",
        "\n",
        "\n",
        "\n",
        "# Closed form solution\n",
        "X_transpose_X = np.dot(X_transpose, X) # https://numpy.org/doc/stable/reference/generated/numpy.dot.html\n",
        "X_transpose_X_inv = np.linalg.inv(X_transpose_X) # https://numpy.org/doc/stable/reference/routines.linalg.html\n",
        "X_transpose_y = np.dot(X_transpose, y)\n",
        "w_star = np.dot(X_transpose_X_inv, X_transpose_y)"
      ]
    },
    {
      "cell_type": "markdown",
      "metadata": {
        "id": "pI0MyXVddbHE"
      },
      "source": [
        "# Problem 1C"
      ]
    },
    {
      "cell_type": "code",
      "execution_count": null,
      "metadata": {
        "id": "rUyZdqcHAwhd"
      },
      "outputs": [],
      "source": [
        "# Linear solver\n",
        "from sklearn.linear_model import LinearRegression\n",
        "\n",
        "\n",
        "\n",
        "# Load data and fit to model, extract w_star: https://scikit-learn.org/stable/modules/generated/sklearn.linear_model.LinearRegression.html\n",
        "diabetes = load_diabetes()\n",
        "X = diabetes.data\n",
        "y = diabetes.target\n",
        "regressionModel = LinearRegression()\n",
        "regressionModel.fit(X, y)\n",
        "w_star_solver = regressionModel.coef_"
      ]
    },
    {
      "cell_type": "markdown",
      "metadata": {
        "id": "S3WO5hn9duZr"
      },
      "source": [
        "# Sanity Check"
      ]
    },
    {
      "cell_type": "code",
      "execution_count": null,
      "metadata": {
        "id": "tNwugUy4BJ_T"
      },
      "outputs": [],
      "source": [
        "# https://stackoverflow.com/questions/10580676/comparing-two-numpy-arrays-for-equality-element-wise\n",
        "assert np.allclose(w_star, w_star_solver), \"Numpy arrays are not close elementwise to one another\""
      ]
    },
    {
      "cell_type": "code",
      "execution_count": null,
      "metadata": {
        "colab": {
          "base_uri": "https://localhost:8080/"
        },
        "id": "bzyf8d0tDigb",
        "outputId": "d85a0a19-41fb-4661-8307-6577a99de495"
      },
      "outputs": [
        {
          "name": "stdout",
          "output_type": "stream",
          "text": [
            "My solution: \n",
            "[ -10.0098663  -239.81564367  519.84592005  324.3846455  -792.17563855\n",
            "  476.73902101  101.04326794  177.06323767  751.27369956   67.62669218]\n",
            "\n",
            "Sklearn: \n",
            "[ -10.0098663  -239.81564367  519.84592005  324.3846455  -792.17563855\n",
            "  476.73902101  101.04326794  177.06323767  751.27369956   67.62669218]\n"
          ]
        }
      ],
      "source": [
        "# Closed form\n",
        "print(\"My solution: \")\n",
        "print(w_star)\n",
        "\n",
        "# Sklearn solver\n",
        "print(\"\\nSklearn: \")\n",
        "print(w_star_solver)"
      ]
    },
    {
      "cell_type": "markdown",
      "metadata": {
        "id": "KoWxSw7ekAQZ"
      },
      "source": [
        "\n",
        "---\n",
        "\n"
      ]
    },
    {
      "cell_type": "markdown",
      "metadata": {
        "id": "PpN-HuZueEXi"
      },
      "source": [
        "# Problem 2C"
      ]
    },
    {
      "cell_type": "code",
      "execution_count": null,
      "metadata": {
        "colab": {
          "base_uri": "https://localhost:8080/",
          "height": 225
        },
        "id": "_fLPYcK3eDiO",
        "outputId": "b9f2482c-2cc1-4e93-cd51-1f00f53e4612"
      },
      "outputs": [
        {
          "name": "stderr",
          "output_type": "stream",
          "text": [
            "c:\\Users\\liemj\\anaconda3\\envs\\ASLenv\\Lib\\site-packages\\sklearn\\linear_model\\_logistic.py:460: ConvergenceWarning: lbfgs failed to converge (status=1):\n",
            "STOP: TOTAL NO. of ITERATIONS REACHED LIMIT.\n",
            "\n",
            "Increase the number of iterations (max_iter) or scale the data as shown in:\n",
            "    https://scikit-learn.org/stable/modules/preprocessing.html\n",
            "Please also refer to the documentation for alternative solver options:\n",
            "    https://scikit-learn.org/stable/modules/linear_model.html#logistic-regression\n",
            "  n_iter_i = _check_optimize_result(\n"
          ]
        },
        {
          "data": {
            "text/html": [
              "<style>#sk-container-id-3 {color: black;}#sk-container-id-3 pre{padding: 0;}#sk-container-id-3 div.sk-toggleable {background-color: white;}#sk-container-id-3 label.sk-toggleable__label {cursor: pointer;display: block;width: 100%;margin-bottom: 0;padding: 0.3em;box-sizing: border-box;text-align: center;}#sk-container-id-3 label.sk-toggleable__label-arrow:before {content: \"▸\";float: left;margin-right: 0.25em;color: #696969;}#sk-container-id-3 label.sk-toggleable__label-arrow:hover:before {color: black;}#sk-container-id-3 div.sk-estimator:hover label.sk-toggleable__label-arrow:before {color: black;}#sk-container-id-3 div.sk-toggleable__content {max-height: 0;max-width: 0;overflow: hidden;text-align: left;background-color: #f0f8ff;}#sk-container-id-3 div.sk-toggleable__content pre {margin: 0.2em;color: black;border-radius: 0.25em;background-color: #f0f8ff;}#sk-container-id-3 input.sk-toggleable__control:checked~div.sk-toggleable__content {max-height: 200px;max-width: 100%;overflow: auto;}#sk-container-id-3 input.sk-toggleable__control:checked~label.sk-toggleable__label-arrow:before {content: \"▾\";}#sk-container-id-3 div.sk-estimator input.sk-toggleable__control:checked~label.sk-toggleable__label {background-color: #d4ebff;}#sk-container-id-3 div.sk-label input.sk-toggleable__control:checked~label.sk-toggleable__label {background-color: #d4ebff;}#sk-container-id-3 input.sk-hidden--visually {border: 0;clip: rect(1px 1px 1px 1px);clip: rect(1px, 1px, 1px, 1px);height: 1px;margin: -1px;overflow: hidden;padding: 0;position: absolute;width: 1px;}#sk-container-id-3 div.sk-estimator {font-family: monospace;background-color: #f0f8ff;border: 1px dotted black;border-radius: 0.25em;box-sizing: border-box;margin-bottom: 0.5em;}#sk-container-id-3 div.sk-estimator:hover {background-color: #d4ebff;}#sk-container-id-3 div.sk-parallel-item::after {content: \"\";width: 100%;border-bottom: 1px solid gray;flex-grow: 1;}#sk-container-id-3 div.sk-label:hover label.sk-toggleable__label {background-color: #d4ebff;}#sk-container-id-3 div.sk-serial::before {content: \"\";position: absolute;border-left: 1px solid gray;box-sizing: border-box;top: 0;bottom: 0;left: 50%;z-index: 0;}#sk-container-id-3 div.sk-serial {display: flex;flex-direction: column;align-items: center;background-color: white;padding-right: 0.2em;padding-left: 0.2em;position: relative;}#sk-container-id-3 div.sk-item {position: relative;z-index: 1;}#sk-container-id-3 div.sk-parallel {display: flex;align-items: stretch;justify-content: center;background-color: white;position: relative;}#sk-container-id-3 div.sk-item::before, #sk-container-id-3 div.sk-parallel-item::before {content: \"\";position: absolute;border-left: 1px solid gray;box-sizing: border-box;top: 0;bottom: 0;left: 50%;z-index: -1;}#sk-container-id-3 div.sk-parallel-item {display: flex;flex-direction: column;z-index: 1;position: relative;background-color: white;}#sk-container-id-3 div.sk-parallel-item:first-child::after {align-self: flex-end;width: 50%;}#sk-container-id-3 div.sk-parallel-item:last-child::after {align-self: flex-start;width: 50%;}#sk-container-id-3 div.sk-parallel-item:only-child::after {width: 0;}#sk-container-id-3 div.sk-dashed-wrapped {border: 1px dashed gray;margin: 0 0.4em 0.5em 0.4em;box-sizing: border-box;padding-bottom: 0.4em;background-color: white;}#sk-container-id-3 div.sk-label label {font-family: monospace;font-weight: bold;display: inline-block;line-height: 1.2em;}#sk-container-id-3 div.sk-label-container {text-align: center;}#sk-container-id-3 div.sk-container {/* jupyter's `normalize.less` sets `[hidden] { display: none; }` but bootstrap.min.css set `[hidden] { display: none !important; }` so we also need the `!important` here to be able to override the default hidden behavior on the sphinx rendered scikit-learn.org. See: https://github.com/scikit-learn/scikit-learn/issues/21755 */display: inline-block !important;position: relative;}#sk-container-id-3 div.sk-text-repr-fallback {display: none;}</style><div id=\"sk-container-id-3\" class=\"sk-top-container\"><div class=\"sk-text-repr-fallback\"><pre>LogisticRegression()</pre><b>In a Jupyter environment, please rerun this cell to show the HTML representation or trust the notebook. <br />On GitHub, the HTML representation is unable to render, please try loading this page with nbviewer.org.</b></div><div class=\"sk-container\" hidden><div class=\"sk-item\"><div class=\"sk-estimator sk-toggleable\"><input class=\"sk-toggleable__control sk-hidden--visually\" id=\"sk-estimator-id-3\" type=\"checkbox\" checked><label for=\"sk-estimator-id-3\" class=\"sk-toggleable__label sk-toggleable__label-arrow\">LogisticRegression</label><div class=\"sk-toggleable__content\"><pre>LogisticRegression()</pre></div></div></div></div></div>"
            ],
            "text/plain": [
              "LogisticRegression()"
            ]
          },
          "execution_count": 79,
          "metadata": {},
          "output_type": "execute_result"
        }
      ],
      "source": [
        "from sklearn.linear_model import LogisticRegression\n",
        "from sklearn.datasets import load_wine\n",
        "from sklearn.datasets import load_iris\n",
        "from sklearn.model_selection import train_test_split\n",
        "\n",
        "# Load dataset\n",
        "X, y = load_wine(return_X_y=True)\n",
        "X_train, X_test, y_train, y_test = train_test_split(X, y, test_size=0.2)\n",
        "\n",
        "# Fit our model\n",
        "model = LogisticRegression()\n",
        "model.fit(X_train, y_train)"
      ]
    },
    {
      "cell_type": "code",
      "execution_count": null,
      "metadata": {
        "colab": {
          "base_uri": "https://localhost:8080/"
        },
        "id": "KZrMWY42iB4q",
        "outputId": "3de4b7a7-ad84-45ec-9e0b-94b0e68d8d9c"
      },
      "outputs": [
        {
          "name": "stdout",
          "output_type": "stream",
          "text": [
            "Model coef: \n",
            "[[-1.71720584e-02  1.49617205e-01  1.25232870e-01 -2.25825380e-01\n",
            "  -3.19189734e-02  1.80023530e-01  4.02454060e-01 -1.80556348e-02\n",
            "   7.23346435e-02 -2.19815151e-02  1.60663612e-02  3.03674641e-01\n",
            "   7.74886272e-03]\n",
            " [ 3.97803158e-01 -5.70976516e-01 -1.05541699e-01  1.42490944e-01\n",
            "   1.56126453e-02  2.92111209e-01  4.43766844e-01  3.16179559e-02\n",
            "   3.16850041e-01 -1.10306732e+00  2.17536302e-01  4.11674292e-01\n",
            "  -8.07889407e-03]\n",
            " [-3.80631099e-01  4.21359311e-01 -1.96911709e-02  8.33344361e-02\n",
            "   1.63063281e-02 -4.72134739e-01 -8.46220904e-01 -1.35623212e-02\n",
            "  -3.89184685e-01  1.12504884e+00 -2.33602663e-01 -7.15348933e-01\n",
            "   3.30031346e-04]]\n",
            "\n",
            "Ground truth: \n",
            "[0 1 2 2 2 1 1 1 1 2 2 1 1 1 0 1 1 1 0 0 1 2 1 1 1 1 2 1 0 2 0 2 2 2 0 2]\n",
            "\n",
            "Predicted\n",
            "[0 1 2 2 2 1 1 1 1 2 2 1 1 1 0 1 1 1 0 0 1 2 1 1 1 1 2 1 0 2 0 2 2 2 0 2]\n"
          ]
        }
      ],
      "source": [
        "y_true = y_test\n",
        "y_pred = model.predict(X_test)\n",
        "\n",
        "print(\"Model coef: \")\n",
        "print(model.coef_)\n",
        "\n",
        "print(\"\\nGround truth: \")\n",
        "print(y_true)\n",
        "\n",
        "print(\"\\nPredicted\")\n",
        "print(y_pred)"
      ]
    },
    {
      "cell_type": "markdown",
      "metadata": {
        "id": "CFF3umsbTkgj"
      },
      "source": [
        "# Problem 3A"
      ]
    },
    {
      "cell_type": "code",
      "execution_count": null,
      "metadata": {
        "id": "K24XVPNfTnk8"
      },
      "outputs": [],
      "source": [
        "import torchvision\n",
        "import torch\n",
        "import matplotlib.pyplot as plt\n",
        "from sklearn.model_selection import train_test_split\n",
        "from torch.utils.data import DataLoader\n",
        "from torch.utils.data import TensorDataset\n",
        "\n",
        "# Download and load the data\n",
        "data = torchvision.datasets.FashionMNIST('./FashionMNIST', train=True, download=True, transform=torchvision.transforms.ToTensor())"
      ]
    },
    {
      "cell_type": "code",
      "execution_count": null,
      "metadata": {
        "colab": {
          "base_uri": "https://localhost:8080/"
        },
        "id": "G5cEd3PWTvBS",
        "outputId": "d7486cef-ce8e-482a-947f-d2154bc8948e"
      },
      "outputs": [
        {
          "name": "stdout",
          "output_type": "stream",
          "text": [
            "torch.Size([1, 28, 28])\n",
            "9\n"
          ]
        }
      ],
      "source": [
        "sample_img, sample_lbl = data[0]\n",
        "print(sample_img.shape)\n",
        "print(sample_lbl)"
      ]
    },
    {
      "cell_type": "code",
      "execution_count": null,
      "metadata": {
        "colab": {
          "base_uri": "https://localhost:8080/",
          "height": 448
        },
        "id": "zQcMDXdEUq6w",
        "outputId": "4a179d80-18fe-48e3-e5ae-30fc7c64a7f8"
      },
      "outputs": [
        {
          "data": {
            "text/plain": [
              "<matplotlib.image.AxesImage at 0x1695e09ad50>"
            ]
          },
          "execution_count": 83,
          "metadata": {},
          "output_type": "execute_result"
        },
        {
          "data": {
            "image/png": "[encoded data removed]",
            "text/plain": [
              "<Figure size 640x480 with 1 Axes>"
            ]
          },
          "metadata": {},
          "output_type": "display_data"
        }
      ],
      "source": [
        "plt.imshow(sample_img.squeeze())"
      ]
    },
    {
      "cell_type": "code",
      "execution_count": null,
      "metadata": {
        "id": "jAnTMwvRVHlo"
      },
      "outputs": [],
      "source": [
        "train_length = int(0.8 * len(data))\n",
        "test_length = int(0.2 * len(data))\n",
        "\n",
        "# Prepare into dataloader\n",
        "train_dataset, test_dataset = torch.utils.data.random_split(data, (train_length, test_length))\n",
        "train_loader = DataLoader(train_dataset, batch_size=32, shuffle=True)\n",
        "test_loader = DataLoader(test_dataset, batch_size=32)"
      ]
    },
    {
      "cell_type": "markdown",
      "metadata": {
        "id": "uthY-dgueyL8"
      },
      "source": [
        "# Problem 3B"
      ]
    },
    {
      "cell_type": "code",
      "execution_count": null,
      "metadata": {
        "id": "u1Jui99deq3c"
      },
      "outputs": [],
      "source": [
        "from torch.nn import Module\n",
        "from torch.nn import CrossEntropyLoss\n",
        "from torch.optim import SGD\n",
        "from torch.nn import Linear\n",
        "from torch.nn import ReLU\n",
        "from torch.nn import Sequential\n",
        "from tqdm import tqdm"
      ]
    },
    {
      "cell_type": "code",
      "execution_count": null,
      "metadata": {
        "id": "DmpKxd4jfBkM"
      },
      "outputs": [],
      "source": [
        "class JosefNet(Module):\n",
        "  def __init__(self, inshape=(28, 28), num_classes=10):\n",
        "    super(JosefNet, self).__init__()\n",
        "    self.inshape = inshape\n",
        "\n",
        "    input_size = self.inshape[0] * self.inshape[1]\n",
        "\n",
        "    self.layer1 = self.JosefLayer(input_size, input_size + 10)\n",
        "    self.layer2 = self.JosefLayer(input_size + 10, input_size + 20)\n",
        "    self.layer3 = self.JosefLayer(input_size + 20, input_size + 10)\n",
        "    self.layer4 = Linear(input_size + 10, num_classes)\n",
        "\n",
        "  def JosefLayer(self, in_channels, out_channels):\n",
        "    layer = Sequential(\n",
        "        Linear(in_channels, out_channels),\n",
        "        ReLU(),\n",
        "    )\n",
        "    return layer\n",
        "\n",
        "  def forward(self, x):\n",
        "    x = x.view(-1, self.inshape[0] * self.inshape[1])\n",
        "    x = self.layer1(x)\n",
        "    x = self.layer2(x)\n",
        "    x = self.layer3(x)\n",
        "    x = self.layer4(x)\n",
        "    return x\n",
        "\n",
        "# 1. Model 2. Loss 3. Optimization\n",
        "model = JosefNet(inshape=(28, 28), num_classes=10)\n",
        "criterion = CrossEntropyLoss()\n",
        "optimizer = SGD(model.parameters(), lr=0.01)"
      ]
    },
    {
      "cell_type": "code",
      "execution_count": null,
      "metadata": {
        "colab": {
          "base_uri": "https://localhost:8080/"
        },
        "id": "DGBIOR5ysv4C",
        "outputId": "a43fe9dc-4aa1-46bd-cf7b-f8d2d1a6be78"
      },
      "outputs": [
        {
          "name": "stdout",
          "output_type": "stream",
          "text": [
            "Using cpu...\n"
          ]
        }
      ],
      "source": [
        "device = torch.device('cuda' if torch.cuda.is_available() else 'cpu')\n",
        "print(f'Using {device}...')\n",
        "\n",
        "model = model.to(device)"
      ]
    },
    {
      "cell_type": "code",
      "execution_count": null,
      "metadata": {
        "colab": {
          "base_uri": "https://localhost:8080/"
        },
        "id": "juKS8mz-tEIk",
        "outputId": "c378032d-6ba0-4675-c4a0-a36aca5ef9f2"
      },
      "outputs": [
        {
          "name": "stderr",
          "output_type": "stream",
          "text": [
            "Epoch 1/10 - Training: 100%|██████████| 1500/1500 [00:12<00:00, 115.80it/s]\n",
            "Epoch 1/10 - Testing: 100%|██████████| 375/375 [00:01<00:00, 199.58it/s]\n"
          ]
        },
        {
          "name": "stdout",
          "output_type": "stream",
          "text": [
            "Training Loss: 1.2783720241983731 \t Test Loss: 0.7180028606255849\n"
          ]
        },
        {
          "name": "stderr",
          "output_type": "stream",
          "text": [
            "Epoch 2/10 - Training: 100%|██████████| 1500/1500 [00:12<00:00, 120.83it/s]\n",
            "Epoch 2/10 - Testing: 100%|██████████| 375/375 [00:01<00:00, 202.13it/s]\n"
          ]
        },
        {
          "name": "stdout",
          "output_type": "stream",
          "text": [
            "Training Loss: 0.6391100450754166 \t Test Loss: 0.5531621694564819\n"
          ]
        },
        {
          "name": "stderr",
          "output_type": "stream",
          "text": [
            "Epoch 3/10 - Training: 100%|██████████| 1500/1500 [00:12<00:00, 120.18it/s]\n",
            "Epoch 3/10 - Testing: 100%|██████████| 375/375 [00:01<00:00, 202.75it/s]\n"
          ]
        },
        {
          "name": "stdout",
          "output_type": "stream",
          "text": [
            "Training Loss: 0.535347327152888 \t Test Loss: 0.5120111543337504\n"
          ]
        },
        {
          "name": "stderr",
          "output_type": "stream",
          "text": [
            "Epoch 4/10 - Training: 100%|██████████| 1500/1500 [00:12<00:00, 119.75it/s]\n",
            "Epoch 4/10 - Testing: 100%|██████████| 375/375 [00:01<00:00, 206.03it/s]\n"
          ]
        },
        {
          "name": "stdout",
          "output_type": "stream",
          "text": [
            "Training Loss: 0.4817542056838671 \t Test Loss: 0.48389638829231263\n"
          ]
        },
        {
          "name": "stderr",
          "output_type": "stream",
          "text": [
            "Epoch 5/10 - Training: 100%|██████████| 1500/1500 [00:12<00:00, 120.13it/s]\n",
            "Epoch 5/10 - Testing: 100%|██████████| 375/375 [00:02<00:00, 185.58it/s]\n"
          ]
        },
        {
          "name": "stdout",
          "output_type": "stream",
          "text": [
            "Training Loss: 0.4507949015696843 \t Test Loss: 0.4513076793750127\n"
          ]
        },
        {
          "name": "stderr",
          "output_type": "stream",
          "text": [
            "Epoch 6/10 - Training: 100%|██████████| 1500/1500 [00:12<00:00, 119.91it/s]\n",
            "Epoch 6/10 - Testing: 100%|██████████| 375/375 [00:01<00:00, 199.35it/s]\n"
          ]
        },
        {
          "name": "stdout",
          "output_type": "stream",
          "text": [
            "Training Loss: 0.4271812918086847 \t Test Loss: 0.4186215761701266\n"
          ]
        },
        {
          "name": "stderr",
          "output_type": "stream",
          "text": [
            "Epoch 7/10 - Training: 100%|██████████| 1500/1500 [00:12<00:00, 121.31it/s]\n",
            "Epoch 7/10 - Testing: 100%|██████████| 375/375 [00:01<00:00, 201.48it/s]\n"
          ]
        },
        {
          "name": "stdout",
          "output_type": "stream",
          "text": [
            "Training Loss: 0.40905945078035194 \t Test Loss: 0.398398036022981\n"
          ]
        },
        {
          "name": "stderr",
          "output_type": "stream",
          "text": [
            "Epoch 8/10 - Training: 100%|██████████| 1500/1500 [00:12<00:00, 120.33it/s]\n",
            "Epoch 8/10 - Testing: 100%|██████████| 375/375 [00:01<00:00, 200.26it/s]\n"
          ]
        },
        {
          "name": "stdout",
          "output_type": "stream",
          "text": [
            "Training Loss: 0.39271588702499866 \t Test Loss: 0.3925811664263407\n"
          ]
        },
        {
          "name": "stderr",
          "output_type": "stream",
          "text": [
            "Epoch 9/10 - Training: 100%|██████████| 1500/1500 [00:12<00:00, 120.47it/s]\n",
            "Epoch 9/10 - Testing: 100%|██████████| 375/375 [00:01<00:00, 202.14it/s]\n"
          ]
        },
        {
          "name": "stdout",
          "output_type": "stream",
          "text": [
            "Training Loss: 0.3788658427745104 \t Test Loss: 0.37457411682605746\n"
          ]
        },
        {
          "name": "stderr",
          "output_type": "stream",
          "text": [
            "Epoch 10/10 - Training: 100%|██████████| 1500/1500 [00:12<00:00, 119.54it/s]\n",
            "Epoch 10/10 - Testing: 100%|██████████| 375/375 [00:01<00:00, 204.16it/s]"
          ]
        },
        {
          "name": "stdout",
          "output_type": "stream",
          "text": [
            "Training Loss: 0.3653795603265365 \t Test Loss: 0.37344550824165346\n"
          ]
        },
        {
          "name": "stderr",
          "output_type": "stream",
          "text": [
            "\n"
          ]
        }
      ],
      "source": [
        "n_epochs = 10\n",
        "train_losses = []\n",
        "test_losses = []\n",
        "\n",
        "for epoch in range(n_epochs):\n",
        "  train_loss = 0\n",
        "  test_loss = 0\n",
        "\n",
        "  model.train()\n",
        "  for imgs, lbls in tqdm(train_loader, desc=f\"Epoch {epoch+1}/{n_epochs} - Training\"):\n",
        "    imgs = imgs.to(device)\n",
        "    lbls = lbls.to(device)\n",
        "\n",
        "    # get prediction and calculate training loss on batch\n",
        "    preds = model(imgs)\n",
        "    loss = criterion(preds, lbls)\n",
        "    loss.backward() # Backward pass\n",
        "    optimizer.step() # Gradient update\n",
        "    optimizer.zero_grad() # Zero gradient for next run\n",
        "\n",
        "    train_loss += loss.item()\n",
        "\n",
        "  # calculate the loss\n",
        "  train_loss /= len(train_loader)\n",
        "  train_losses.append(train_loss)\n",
        "\n",
        "  model.eval()\n",
        "  with torch.no_grad():\n",
        "    # do the same on test data each epoch\n",
        "    for imgs, lbls in tqdm(test_loader, desc=f\"Epoch {epoch+1}/{n_epochs} - Testing\"):\n",
        "      imgs = imgs.to(device)\n",
        "      lbls = lbls.to(device)\n",
        "\n",
        "      # get preds and calculate batchwise loss\n",
        "      preds = model(imgs)\n",
        "      loss = criterion(preds, lbls)\n",
        "\n",
        "      test_loss += loss.item()\n",
        "\n",
        "    # Calculate test loss\n",
        "    test_loss /= len(test_loader)\n",
        "    test_losses.append(test_loss)\n",
        "\n",
        "  print(f'Training Loss: {train_loss} \\t Test Loss: {test_loss}')"
      ]
    },
    {
      "cell_type": "markdown",
      "metadata": {
        "id": "7jyCN0SXe1db"
      },
      "source": [
        "# Problem 3C"
      ]
    },
    {
      "cell_type": "code",
      "execution_count": null,
      "metadata": {
        "id": "OKrlso-n-S74",
        "outputId": "e0fa1c35-42e0-4629-aab1-76de6779e1d8"
      },
      "outputs": [
        {
          "data": {
            "image/png": "[encoded data removed]",
            "text/plain": [
              "<Figure size 640x480 with 1 Axes>"
            ]
          },
          "metadata": {},
          "output_type": "display_data"
        }
      ],
      "source": [
        "#plot the losses\n",
        "plt.plot(train_losses, label='Training loss')\n",
        "plt.plot(test_losses, label='Testing loss')\n",
        "plt.xlabel('Epoch')\n",
        "plt.ylabel('Loss')\n",
        "plt.title('Training and Testing Loss')\n",
        "plt.legend()\n",
        "plt.show()"
      ]
    },
    {
      "cell_type": "code",
      "execution_count": null,
      "metadata": {
        "id": "E0qKCAJq-S75",
        "outputId": "f2c45cbd-6cd1-4b4d-9aaf-61faaa4bba1c"
      },
      "outputs": [
        {
          "name": "stdout",
          "output_type": "stream",
          "text": [
            "Predicted: 8 \t Ground Truth: 8\n"
          ]
        },
        {
          "data": {
            "text/plain": [
              "<matplotlib.image.AxesImage at 0x16959d62e10>"
            ]
          },
          "execution_count": 125,
          "metadata": {},
          "output_type": "execute_result"
        },
        {
          "data": {
            "image/png": "[encoded data removed]",
            "text/plain": [
              "<Figure size 640x480 with 1 Axes>"
            ]
          },
          "metadata": {},
          "output_type": "display_data"
        }
      ],
      "source": [
        "# sample prediction\n",
        "model.eval()\n",
        "sample_img, sample_lbl = test_dataset[1]\n",
        "sample_img = sample_img.to(device)\n",
        "\n",
        "with torch.no_grad():\n",
        "    sample_pred = model(sample_img.unsqueeze(0))\n",
        "    sample_pred = torch.argmax(sample_pred, dim=1)\n",
        "\n",
        "print(f'Predicted: {sample_pred.item()} \\t Ground Truth: {sample_lbl}')\n",
        "plt.imshow(sample_img.squeeze().cpu().numpy())"
      ]
    },
    {
      "cell_type": "code",
      "execution_count": null,
      "metadata": {
        "id": "Am0r9mhh-S75",
        "outputId": "7103962e-1a6b-435a-b94c-672514a12af1"
      },
      "outputs": [
        {
          "name": "stdout",
          "output_type": "stream",
          "text": [
            "Accuracy: 86.90833333333333%\n"
          ]
        }
      ],
      "source": [
        "# accuracy\n",
        "correct = 0\n",
        "total = 0\n",
        "model.eval()\n",
        "\n",
        "with torch.no_grad():\n",
        "    for imgs, lbls in test_loader:\n",
        "        imgs = imgs.to(device)\n",
        "        lbls = lbls.to(device)\n",
        "\n",
        "        preds = model(imgs)\n",
        "        preds = torch.argmax(preds, dim=1)\n",
        "\n",
        "        total += lbls.size(0)\n",
        "        correct += (preds == lbls).sum().item()\n",
        "\n",
        "print(f'Accuracy: {correct/total * 100}%')"
      ]
    },
    {
      "cell_type": "markdown",
      "source": [
        "Training loss and testing losss are relatively comparable in my training process, thus it seems like it isn't really over or underfitting. That said, an accuracy of 87% can be improved some more. Tweaking with the number of channels and observing consequent performance indicates it is likely a problem of too large a number of parameters for a rather simple dataset."
      ],
      "metadata": {
        "id": "DEnORFxI-XMf"
      }
    },
    {
      "cell_type": "markdown",
      "source": [
        "# Problem 4A"
      ],
      "metadata": {
        "id": "eZ64n-jMw4D9"
      }
    },
    {
      "cell_type": "code",
      "source": [
        "import torchvision\n",
        "import torch\n",
        "import matplotlib.pyplot as plt\n",
        "from sklearn.model_selection import train_test_split\n",
        "from torch.utils.data import DataLoader\n",
        "from torch.utils.data import TensorDataset\n",
        "from torch.nn import Module\n",
        "from torch.nn import CrossEntropyLoss\n",
        "from torch.optim import SGD\n",
        "from torch.nn import Linear\n",
        "from torch.nn import ReLU\n",
        "from torch.nn import Sequential\n",
        "from tqdm import tqdm\n",
        "import numpy as np"
      ],
      "metadata": {
        "id": "QODGDgqgw70I"
      },
      "execution_count": null,
      "outputs": []
    },
    {
      "cell_type": "code",
      "source": [
        "class JosefNet(Module):\n",
        "  def __init__(self, inshape=(28, 28), num_classes=10):\n",
        "    super(JosefNet, self).__init__()\n",
        "    self.inshape = inshape\n",
        "\n",
        "    input_size = self.inshape[0] * self.inshape[1]\n",
        "\n",
        "    self.layer1 = self.JosefLayer(input_size, input_size + 24)\n",
        "    self.layer2 = self.JosefLayer(input_size + 24, input_size + 16)\n",
        "    self.layer3 = Linear(input_size + 16, num_classes)\n",
        "\n",
        "  def JosefLayer(self, in_channels, out_channels):\n",
        "    layer = Sequential(\n",
        "        Linear(in_channels, out_channels),\n",
        "        ReLU(),\n",
        "    )\n",
        "    return layer\n",
        "\n",
        "  def forward(self, x):\n",
        "    x = x.view(-1, self.inshape[0] * self.inshape[1])\n",
        "    x = self.layer1(x)\n",
        "    x = self.layer2(x)\n",
        "    x = self.layer3(x)\n",
        "    return x"
      ],
      "metadata": {
        "id": "seoorgBfz8fF"
      },
      "execution_count": null,
      "outputs": []
    },
    {
      "cell_type": "code",
      "source": [
        "# Download and load the data\n",
        "data = torchvision.datasets.FashionMNIST('./FashionMNIST', train=True, download=True, transform=torchvision.transforms.ToTensor())"
      ],
      "metadata": {
        "id": "YjFm_nhDyORG"
      },
      "execution_count": null,
      "outputs": []
    },
    {
      "cell_type": "code",
      "source": [
        "train_length = int(0.8 * len(data))\n",
        "test_length = int(0.2 * len(data))\n",
        "\n",
        "# Prepare a subsample into dataloader\n",
        "train_dataset, test_dataset = torch.utils.data.random_split(data, (train_length, test_length))\n",
        "\n",
        "subsampled_train_dataset = torch.utils.data.Subset(train_dataset, range(25000))\n",
        "sample_train_loader = DataLoader(subsampled_train_dataset, batch_size=32, shuffle=True)\n",
        "test_loader = DataLoader(test_dataset, batch_size=32)"
      ],
      "metadata": {
        "id": "7a9AjffX0P17"
      },
      "execution_count": null,
      "outputs": []
    },
    {
      "cell_type": "code",
      "source": [
        "# What is the size of our subsample?\n",
        "print(f\"Shape of subsample training data: {len(sample_train_loader.dataset)}\")"
      ],
      "metadata": {
        "colab": {
          "base_uri": "https://localhost:8080/"
        },
        "id": "kPHniH6B2Qzp",
        "outputId": "c0696328-0ade-4606-b9a3-d275c4c55e9a"
      },
      "execution_count": null,
      "outputs": [
        {
          "output_type": "stream",
          "name": "stdout",
          "text": [
            "Shape of subsample training data: 25000\n"
          ]
        }
      ]
    },
    {
      "cell_type": "markdown",
      "source": [
        "# Problem 4B"
      ],
      "metadata": {
        "id": "ha_9YqW22Nue"
      }
    },
    {
      "cell_type": "code",
      "source": [
        "def train_benchmarker(optimizer, model, n_epochs = 10):\n",
        "  criterion = CrossEntropyLoss()\n",
        "\n",
        "  # Move model to device\n",
        "  device = torch.device('cuda' if torch.cuda.is_available() else 'cpu')\n",
        "  model = model.to(device)\n",
        "\n",
        "  # Track losses over epochs\n",
        "  train_losses = []\n",
        "  test_losses = []\n",
        "\n",
        "  for epoch in range(n_epochs):\n",
        "    train_loss = 0\n",
        "    test_loss = 0\n",
        "\n",
        "    model.train()\n",
        "    for imgs, lbls in tqdm(sample_train_loader, desc=f\"Epoch {epoch+1}/{n_epochs} Training\"):\n",
        "      imgs = imgs.to(device)\n",
        "      lbls = lbls.to(device)\n",
        "\n",
        "      # get prediction and calculate training loss on batch\n",
        "      preds = model(imgs)\n",
        "      loss = criterion(preds, lbls)\n",
        "      loss.backward() # Backward pass\n",
        "      optimizer.step() # Gradient update\n",
        "      optimizer.zero_grad() # Zero gradient for next run\n",
        "\n",
        "      train_loss += loss.item()\n",
        "\n",
        "    # calculate the loss\n",
        "    train_loss /= len(train_loader)\n",
        "    train_losses.append(train_loss)\n",
        "\n",
        "    model.eval()\n",
        "    with torch.no_grad():\n",
        "      # do the same on test data each epoch\n",
        "      for imgs, lbls in tqdm(test_loader, desc=f\"Epoch {epoch+1}/{n_epochs} Testing\"):\n",
        "        imgs = imgs.to(device)\n",
        "        lbls = lbls.to(device)\n",
        "\n",
        "        # get preds and calculate batchwise loss\n",
        "        preds = model(imgs)\n",
        "        loss = criterion(preds, lbls)\n",
        "\n",
        "        test_loss += loss.item()\n",
        "\n",
        "      # Calculate test loss\n",
        "      test_loss /= len(test_loader)\n",
        "      test_losses.append(test_loss)\n",
        "\n",
        "    print(f'Training Loss: {train_loss} \\t Test Loss: {test_loss}')\n",
        "  return (train_losses, test_losses)"
      ],
      "metadata": {
        "id": "uvm-94Lm0Ytc"
      },
      "execution_count": null,
      "outputs": []
    },
    {
      "cell_type": "markdown",
      "source": [
        "# Problem 4C"
      ],
      "metadata": {
        "id": "37AGF5Un4o0s"
      }
    },
    {
      "cell_type": "code",
      "source": [
        "# SGD optim\n",
        "n_epochs = 10\n",
        "SGD_test_losses = []\n",
        "\n",
        "for i in range(5):\n",
        "  model = JosefNet(inshape=(28, 28), num_classes=10)\n",
        "  optimizer = torch.optim.SGD(model.parameters(), lr=0.01)\n",
        "  _, SGD_test_loss = train_benchmarker(optimizer, model, n_epochs=n_epochs)\n",
        "  SGD_test_losses.append(SGD_test_loss)"
      ],
      "metadata": {
        "colab": {
          "base_uri": "https://localhost:8080/"
        },
        "id": "lg0uC5Wc4kB6",
        "outputId": "082ec2be-1202-4de4-cdee-311971c17dde"
      },
      "execution_count": null,
      "outputs": [
        {
          "output_type": "stream",
          "name": "stderr",
          "text": [
            "Epoch 1/10 - Training: 100%|██████████| 782/782 [00:08<00:00, 92.86it/s]\n",
            "Epoch 1/10 - Testing: 100%|██████████| 375/375 [00:03<00:00, 99.77it/s] \n"
          ]
        },
        {
          "output_type": "stream",
          "name": "stdout",
          "text": [
            "Training Loss: 0.7032558952569962 \t Test Loss: 0.831922208627065\n"
          ]
        },
        {
          "output_type": "stream",
          "name": "stderr",
          "text": [
            "Epoch 2/10 - Training: 100%|██████████| 782/782 [00:08<00:00, 90.61it/s]\n",
            "Epoch 2/10 - Testing: 100%|██████████| 375/375 [00:03<00:00, 109.46it/s]\n"
          ]
        },
        {
          "output_type": "stream",
          "name": "stdout",
          "text": [
            "Training Loss: 0.37139680455128354 \t Test Loss: 0.6688712609608968\n"
          ]
        },
        {
          "output_type": "stream",
          "name": "stderr",
          "text": [
            "Epoch 3/10 - Training: 100%|██████████| 782/782 [00:09<00:00, 86.54it/s]\n",
            "Epoch 3/10 - Testing: 100%|██████████| 375/375 [00:02<00:00, 129.51it/s]\n"
          ]
        },
        {
          "output_type": "stream",
          "name": "stdout",
          "text": [
            "Training Loss: 0.31033075039585434 \t Test Loss: 0.5940519489447276\n"
          ]
        },
        {
          "output_type": "stream",
          "name": "stderr",
          "text": [
            "Epoch 4/10 - Training: 100%|██████████| 782/782 [00:09<00:00, 81.82it/s]\n",
            "Epoch 4/10 - Testing: 100%|██████████| 375/375 [00:02<00:00, 143.34it/s]\n"
          ]
        },
        {
          "output_type": "stream",
          "name": "stdout",
          "text": [
            "Training Loss: 0.2793977247873942 \t Test Loss: 0.5527418589989345\n"
          ]
        },
        {
          "output_type": "stream",
          "name": "stderr",
          "text": [
            "Epoch 5/10 - Training: 100%|██████████| 782/782 [00:09<00:00, 79.37it/s]\n",
            "Epoch 5/10 - Testing: 100%|██████████| 375/375 [00:03<00:00, 101.18it/s]\n"
          ]
        },
        {
          "output_type": "stream",
          "name": "stdout",
          "text": [
            "Training Loss: 0.26157282172640167 \t Test Loss: 0.5326344661315282\n"
          ]
        },
        {
          "output_type": "stream",
          "name": "stderr",
          "text": [
            "Epoch 6/10 - Training: 100%|██████████| 782/782 [00:09<00:00, 79.62it/s]\n",
            "Epoch 6/10 - Testing: 100%|██████████| 375/375 [00:02<00:00, 146.66it/s]\n"
          ]
        },
        {
          "output_type": "stream",
          "name": "stdout",
          "text": [
            "Training Loss: 0.25076081553101537 \t Test Loss: 0.7300801517963409\n"
          ]
        },
        {
          "output_type": "stream",
          "name": "stderr",
          "text": [
            "Epoch 7/10 - Training: 100%|██████████| 782/782 [00:09<00:00, 78.92it/s]\n",
            "Epoch 7/10 - Testing: 100%|██████████| 375/375 [00:02<00:00, 143.53it/s]\n"
          ]
        },
        {
          "output_type": "stream",
          "name": "stdout",
          "text": [
            "Training Loss: 0.24109366881847383 \t Test Loss: 0.47055828726291654\n"
          ]
        },
        {
          "output_type": "stream",
          "name": "stderr",
          "text": [
            "Epoch 8/10 - Training: 100%|██████████| 782/782 [00:09<00:00, 80.56it/s]\n",
            "Epoch 8/10 - Testing: 100%|██████████| 375/375 [00:02<00:00, 142.41it/s]\n"
          ]
        },
        {
          "output_type": "stream",
          "name": "stdout",
          "text": [
            "Training Loss: 0.23380770835777123 \t Test Loss: 0.4714628564119339\n"
          ]
        },
        {
          "output_type": "stream",
          "name": "stderr",
          "text": [
            "Epoch 9/10 - Training: 100%|██████████| 782/782 [00:09<00:00, 80.06it/s]\n",
            "Epoch 9/10 - Testing: 100%|██████████| 375/375 [00:06<00:00, 59.97it/s]\n"
          ]
        },
        {
          "output_type": "stream",
          "name": "stdout",
          "text": [
            "Training Loss: 0.22798324532806874 \t Test Loss: 0.4753555623690287\n"
          ]
        },
        {
          "output_type": "stream",
          "name": "stderr",
          "text": [
            "Epoch 10/10 - Training: 100%|██████████| 782/782 [00:10<00:00, 72.50it/s]\n",
            "Epoch 10/10 - Testing: 100%|██████████| 375/375 [00:02<00:00, 147.33it/s]\n"
          ]
        },
        {
          "output_type": "stream",
          "name": "stdout",
          "text": [
            "Training Loss: 0.22110255692402522 \t Test Loss: 0.4397340894540151\n"
          ]
        },
        {
          "output_type": "stream",
          "name": "stderr",
          "text": [
            "Epoch 1/10 - Training: 100%|██████████| 782/782 [00:09<00:00, 78.52it/s]\n",
            "Epoch 1/10 - Testing: 100%|██████████| 375/375 [00:02<00:00, 146.47it/s]\n"
          ]
        },
        {
          "output_type": "stream",
          "name": "stdout",
          "text": [
            "Training Loss: 0.6973802994092305 \t Test Loss: 0.8319458848635356\n"
          ]
        },
        {
          "output_type": "stream",
          "name": "stderr",
          "text": [
            "Epoch 2/10 - Training: 100%|██████████| 782/782 [00:09<00:00, 79.55it/s]\n",
            "Epoch 2/10 - Testing: 100%|██████████| 375/375 [00:02<00:00, 147.89it/s]\n"
          ]
        },
        {
          "output_type": "stream",
          "name": "stdout",
          "text": [
            "Training Loss: 0.3716454725662867 \t Test Loss: 0.6832176003456115\n"
          ]
        },
        {
          "output_type": "stream",
          "name": "stderr",
          "text": [
            "Epoch 3/10 - Training: 100%|██████████| 782/782 [00:09<00:00, 79.53it/s]\n",
            "Epoch 3/10 - Testing: 100%|██████████| 375/375 [00:02<00:00, 140.76it/s]\n"
          ]
        },
        {
          "output_type": "stream",
          "name": "stdout",
          "text": [
            "Training Loss: 0.3109091434677442 \t Test Loss: 0.6085583868821463\n"
          ]
        },
        {
          "output_type": "stream",
          "name": "stderr",
          "text": [
            "Epoch 4/10 - Training: 100%|██████████| 782/782 [00:09<00:00, 80.91it/s]\n",
            "Epoch 4/10 - Testing: 100%|██████████| 375/375 [00:02<00:00, 148.03it/s]\n"
          ]
        },
        {
          "output_type": "stream",
          "name": "stdout",
          "text": [
            "Training Loss: 0.28075346156954767 \t Test Loss: 0.546166186650594\n"
          ]
        },
        {
          "output_type": "stream",
          "name": "stderr",
          "text": [
            "Epoch 5/10 - Training: 100%|██████████| 782/782 [00:11<00:00, 65.88it/s]\n",
            "Epoch 5/10 - Testing: 100%|██████████| 375/375 [00:02<00:00, 146.58it/s]\n"
          ]
        },
        {
          "output_type": "stream",
          "name": "stdout",
          "text": [
            "Training Loss: 0.2622709200382233 \t Test Loss: 0.5189207652807236\n"
          ]
        },
        {
          "output_type": "stream",
          "name": "stderr",
          "text": [
            "Epoch 6/10 - Training: 100%|██████████| 782/782 [00:09<00:00, 79.54it/s]\n",
            "Epoch 6/10 - Testing: 100%|██████████| 375/375 [00:02<00:00, 142.59it/s]\n"
          ]
        },
        {
          "output_type": "stream",
          "name": "stdout",
          "text": [
            "Training Loss: 0.2505895812511444 \t Test Loss: 0.5336777829726537\n"
          ]
        },
        {
          "output_type": "stream",
          "name": "stderr",
          "text": [
            "Epoch 7/10 - Training: 100%|██████████| 782/782 [00:09<00:00, 80.92it/s]\n",
            "Epoch 7/10 - Testing: 100%|██████████| 375/375 [00:02<00:00, 145.33it/s]\n"
          ]
        },
        {
          "output_type": "stream",
          "name": "stdout",
          "text": [
            "Training Loss: 0.24124097428719202 \t Test Loss: 0.49520548661549885\n"
          ]
        },
        {
          "output_type": "stream",
          "name": "stderr",
          "text": [
            "Epoch 8/10 - Training: 100%|██████████| 782/782 [00:09<00:00, 79.99it/s]\n",
            "Epoch 8/10 - Testing: 100%|██████████| 375/375 [00:02<00:00, 131.42it/s]\n"
          ]
        },
        {
          "output_type": "stream",
          "name": "stdout",
          "text": [
            "Training Loss: 0.23449389144281546 \t Test Loss: 0.4662925941546758\n"
          ]
        },
        {
          "output_type": "stream",
          "name": "stderr",
          "text": [
            "Epoch 9/10 - Training: 100%|██████████| 782/782 [00:08<00:00, 87.38it/s]\n",
            "Epoch 9/10 - Testing: 100%|██████████| 375/375 [00:03<00:00, 109.09it/s]\n"
          ]
        },
        {
          "output_type": "stream",
          "name": "stdout",
          "text": [
            "Training Loss: 0.2284002882341544 \t Test Loss: 0.4803143405119578\n"
          ]
        },
        {
          "output_type": "stream",
          "name": "stderr",
          "text": [
            "Epoch 10/10 - Training: 100%|██████████| 782/782 [00:08<00:00, 90.01it/s]\n",
            "Epoch 10/10 - Testing: 100%|██████████| 375/375 [00:03<00:00, 100.90it/s]\n"
          ]
        },
        {
          "output_type": "stream",
          "name": "stdout",
          "text": [
            "Training Loss: 0.22182567161818345 \t Test Loss: 0.47303507022062935\n"
          ]
        },
        {
          "output_type": "stream",
          "name": "stderr",
          "text": [
            "Epoch 1/10 - Training: 100%|██████████| 782/782 [00:08<00:00, 89.95it/s]\n",
            "Epoch 1/10 - Testing: 100%|██████████| 375/375 [00:03<00:00, 106.01it/s]\n"
          ]
        },
        {
          "output_type": "stream",
          "name": "stdout",
          "text": [
            "Training Loss: 0.7029864028294881 \t Test Loss: 0.8482988316218059\n"
          ]
        },
        {
          "output_type": "stream",
          "name": "stderr",
          "text": [
            "Epoch 2/10 - Training: 100%|██████████| 782/782 [00:08<00:00, 88.01it/s]\n",
            "Epoch 2/10 - Testing: 100%|██████████| 375/375 [00:02<00:00, 126.31it/s]\n"
          ]
        },
        {
          "output_type": "stream",
          "name": "stdout",
          "text": [
            "Training Loss: 0.3720394649704297 \t Test Loss: 0.6653388329346974\n"
          ]
        },
        {
          "output_type": "stream",
          "name": "stderr",
          "text": [
            "Epoch 3/10 - Training: 100%|██████████| 782/782 [00:10<00:00, 75.50it/s]\n",
            "Epoch 3/10 - Testing: 100%|██████████| 375/375 [00:06<00:00, 55.97it/s]\n"
          ]
        },
        {
          "output_type": "stream",
          "name": "stdout",
          "text": [
            "Training Loss: 0.31079721003770827 \t Test Loss: 0.572528049548467\n"
          ]
        },
        {
          "output_type": "stream",
          "name": "stderr",
          "text": [
            "Epoch 4/10 - Training: 100%|██████████| 782/782 [00:08<00:00, 90.16it/s]\n",
            "Epoch 4/10 - Testing: 100%|██████████| 375/375 [00:04<00:00, 84.82it/s]\n"
          ]
        },
        {
          "output_type": "stream",
          "name": "stdout",
          "text": [
            "Training Loss: 0.28133816734949746 \t Test Loss: 0.5281148660580317\n"
          ]
        },
        {
          "output_type": "stream",
          "name": "stderr",
          "text": [
            "Epoch 5/10 - Training: 100%|██████████| 782/782 [00:09<00:00, 86.00it/s]\n",
            "Epoch 5/10 - Testing: 100%|██████████| 375/375 [00:02<00:00, 132.47it/s]\n"
          ]
        },
        {
          "output_type": "stream",
          "name": "stdout",
          "text": [
            "Training Loss: 0.2637672201494376 \t Test Loss: 0.49779581745465595\n"
          ]
        },
        {
          "output_type": "stream",
          "name": "stderr",
          "text": [
            "Epoch 6/10 - Training: 100%|██████████| 782/782 [00:09<00:00, 82.50it/s]\n",
            "Epoch 6/10 - Testing: 100%|██████████| 375/375 [00:02<00:00, 145.21it/s]\n"
          ]
        },
        {
          "output_type": "stream",
          "name": "stdout",
          "text": [
            "Training Loss: 0.2510458189547062 \t Test Loss: 0.5084331505298615\n"
          ]
        },
        {
          "output_type": "stream",
          "name": "stderr",
          "text": [
            "Epoch 7/10 - Training: 100%|██████████| 782/782 [00:09<00:00, 79.92it/s]\n",
            "Epoch 7/10 - Testing: 100%|██████████| 375/375 [00:02<00:00, 143.69it/s]\n"
          ]
        },
        {
          "output_type": "stream",
          "name": "stdout",
          "text": [
            "Training Loss: 0.2430949932038784 \t Test Loss: 0.5103988656600317\n"
          ]
        },
        {
          "output_type": "stream",
          "name": "stderr",
          "text": [
            "Epoch 8/10 - Training: 100%|██████████| 782/782 [00:09<00:00, 79.67it/s]\n",
            "Epoch 8/10 - Testing: 100%|██████████| 375/375 [00:02<00:00, 146.13it/s]\n"
          ]
        },
        {
          "output_type": "stream",
          "name": "stdout",
          "text": [
            "Training Loss: 0.2351061847358942 \t Test Loss: 0.47062710213661196\n"
          ]
        },
        {
          "output_type": "stream",
          "name": "stderr",
          "text": [
            "Epoch 9/10 - Training: 100%|██████████| 782/782 [00:09<00:00, 80.63it/s]\n",
            "Epoch 9/10 - Testing: 100%|██████████| 375/375 [00:02<00:00, 142.40it/s]\n"
          ]
        },
        {
          "output_type": "stream",
          "name": "stdout",
          "text": [
            "Training Loss: 0.22949841050306957 \t Test Loss: 0.45258520857493084\n"
          ]
        },
        {
          "output_type": "stream",
          "name": "stderr",
          "text": [
            "Epoch 10/10 - Training: 100%|██████████| 782/782 [00:09<00:00, 80.31it/s]\n",
            "Epoch 10/10 - Testing: 100%|██████████| 375/375 [00:02<00:00, 145.74it/s]\n"
          ]
        },
        {
          "output_type": "stream",
          "name": "stdout",
          "text": [
            "Training Loss: 0.2231858485241731 \t Test Loss: 0.6304187218348185\n"
          ]
        },
        {
          "output_type": "stream",
          "name": "stderr",
          "text": [
            "Epoch 1/10 - Training: 100%|██████████| 782/782 [00:09<00:00, 78.90it/s]\n",
            "Epoch 1/10 - Testing: 100%|██████████| 375/375 [00:02<00:00, 140.72it/s]\n"
          ]
        },
        {
          "output_type": "stream",
          "name": "stdout",
          "text": [
            "Training Loss: 0.6973215272426605 \t Test Loss: 0.859248434861501\n"
          ]
        },
        {
          "output_type": "stream",
          "name": "stderr",
          "text": [
            "Epoch 2/10 - Training: 100%|██████████| 782/782 [00:09<00:00, 79.69it/s]\n",
            "Epoch 2/10 - Testing: 100%|██████████| 375/375 [00:02<00:00, 140.04it/s]\n"
          ]
        },
        {
          "output_type": "stream",
          "name": "stdout",
          "text": [
            "Training Loss: 0.37142108802000684 \t Test Loss: 0.6882520846525828\n"
          ]
        },
        {
          "output_type": "stream",
          "name": "stderr",
          "text": [
            "Epoch 3/10 - Training: 100%|██████████| 782/782 [00:09<00:00, 79.09it/s]\n",
            "Epoch 3/10 - Testing: 100%|██████████| 375/375 [00:02<00:00, 133.96it/s]\n"
          ]
        },
        {
          "output_type": "stream",
          "name": "stdout",
          "text": [
            "Training Loss: 0.31137232331434883 \t Test Loss: 0.6704572249253591\n"
          ]
        },
        {
          "output_type": "stream",
          "name": "stderr",
          "text": [
            "Epoch 4/10 - Training: 100%|██████████| 782/782 [00:09<00:00, 82.66it/s]\n",
            "Epoch 4/10 - Testing: 100%|██████████| 375/375 [00:03<00:00, 117.12it/s]\n"
          ]
        },
        {
          "output_type": "stream",
          "name": "stdout",
          "text": [
            "Training Loss: 0.28058403914173446 \t Test Loss: 0.5357349493106206\n"
          ]
        },
        {
          "output_type": "stream",
          "name": "stderr",
          "text": [
            "Epoch 5/10 - Training: 100%|██████████| 782/782 [00:09<00:00, 85.61it/s]\n",
            "Epoch 5/10 - Testing: 100%|██████████| 375/375 [00:03<00:00, 107.23it/s]\n"
          ]
        },
        {
          "output_type": "stream",
          "name": "stdout",
          "text": [
            "Training Loss: 0.26392582871516546 \t Test Loss: 0.5313036245107651\n"
          ]
        },
        {
          "output_type": "stream",
          "name": "stderr",
          "text": [
            "Epoch 6/10 - Training: 100%|██████████| 782/782 [00:08<00:00, 93.52it/s]\n",
            "Epoch 6/10 - Testing: 100%|██████████| 375/375 [00:03<00:00, 105.74it/s]\n"
          ]
        },
        {
          "output_type": "stream",
          "name": "stdout",
          "text": [
            "Training Loss: 0.25115848632653553 \t Test Loss: 0.5582472852468491\n"
          ]
        },
        {
          "output_type": "stream",
          "name": "stderr",
          "text": [
            "Epoch 7/10 - Training: 100%|██████████| 782/782 [00:08<00:00, 91.03it/s]\n",
            "Epoch 7/10 - Testing: 100%|██████████| 375/375 [00:03<00:00, 122.66it/s]\n"
          ]
        },
        {
          "output_type": "stream",
          "name": "stdout",
          "text": [
            "Training Loss: 0.24165315576891105 \t Test Loss: 0.4687000723282496\n"
          ]
        },
        {
          "output_type": "stream",
          "name": "stderr",
          "text": [
            "Epoch 8/10 - Training: 100%|██████████| 782/782 [00:09<00:00, 85.91it/s]\n",
            "Epoch 8/10 - Testing: 100%|██████████| 375/375 [00:02<00:00, 147.33it/s]\n"
          ]
        },
        {
          "output_type": "stream",
          "name": "stdout",
          "text": [
            "Training Loss: 0.23342797333498796 \t Test Loss: 0.4865286138852437\n"
          ]
        },
        {
          "output_type": "stream",
          "name": "stderr",
          "text": [
            "Epoch 9/10 - Training: 100%|██████████| 782/782 [00:09<00:00, 81.75it/s]\n",
            "Epoch 9/10 - Testing: 100%|██████████| 375/375 [00:02<00:00, 144.88it/s]\n"
          ]
        },
        {
          "output_type": "stream",
          "name": "stdout",
          "text": [
            "Training Loss: 0.22699206382036208 \t Test Loss: 0.4775100172758102\n"
          ]
        },
        {
          "output_type": "stream",
          "name": "stderr",
          "text": [
            "Epoch 10/10 - Training: 100%|██████████| 782/782 [00:09<00:00, 80.98it/s]\n",
            "Epoch 10/10 - Testing: 100%|██████████| 375/375 [00:02<00:00, 146.96it/s]\n"
          ]
        },
        {
          "output_type": "stream",
          "name": "stdout",
          "text": [
            "Training Loss: 0.2213768932123979 \t Test Loss: 0.483452863574028\n"
          ]
        },
        {
          "output_type": "stream",
          "name": "stderr",
          "text": [
            "Epoch 1/10 - Training: 100%|██████████| 782/782 [00:09<00:00, 80.60it/s]\n",
            "Epoch 1/10 - Testing: 100%|██████████| 375/375 [00:02<00:00, 147.83it/s]\n"
          ]
        },
        {
          "output_type": "stream",
          "name": "stdout",
          "text": [
            "Training Loss: 0.6902742880185445 \t Test Loss: 0.8305537432034811\n"
          ]
        },
        {
          "output_type": "stream",
          "name": "stderr",
          "text": [
            "Epoch 2/10 - Training: 100%|██████████| 782/782 [00:09<00:00, 80.33it/s]\n",
            "Epoch 2/10 - Testing: 100%|██████████| 375/375 [00:02<00:00, 146.59it/s]\n"
          ]
        },
        {
          "output_type": "stream",
          "name": "stdout",
          "text": [
            "Training Loss: 0.3685743841131528 \t Test Loss: 0.6594934310913086\n"
          ]
        },
        {
          "output_type": "stream",
          "name": "stderr",
          "text": [
            "Epoch 3/10 - Training: 100%|██████████| 782/782 [00:09<00:00, 79.29it/s]\n",
            "Epoch 3/10 - Testing: 100%|██████████| 375/375 [00:02<00:00, 146.03it/s]\n"
          ]
        },
        {
          "output_type": "stream",
          "name": "stdout",
          "text": [
            "Training Loss: 0.3096422956089179 \t Test Loss: 0.5743531687259674\n"
          ]
        },
        {
          "output_type": "stream",
          "name": "stderr",
          "text": [
            "Epoch 4/10 - Training: 100%|██████████| 782/782 [00:10<00:00, 76.11it/s]\n",
            "Epoch 4/10 - Testing: 100%|██████████| 375/375 [00:03<00:00, 107.97it/s]\n"
          ]
        },
        {
          "output_type": "stream",
          "name": "stdout",
          "text": [
            "Training Loss: 0.2811964892645677 \t Test Loss: 0.5364169315099716\n"
          ]
        },
        {
          "output_type": "stream",
          "name": "stderr",
          "text": [
            "Epoch 5/10 - Training: 100%|██████████| 782/782 [00:08<00:00, 91.88it/s]\n",
            "Epoch 5/10 - Testing: 100%|██████████| 375/375 [00:03<00:00, 97.91it/s] \n"
          ]
        },
        {
          "output_type": "stream",
          "name": "stdout",
          "text": [
            "Training Loss: 0.2632191900511583 \t Test Loss: 0.5455556256771088\n"
          ]
        },
        {
          "output_type": "stream",
          "name": "stderr",
          "text": [
            "Epoch 6/10 - Training: 100%|██████████| 782/782 [00:08<00:00, 92.40it/s]\n",
            "Epoch 6/10 - Testing: 100%|██████████| 375/375 [00:03<00:00, 120.01it/s]\n"
          ]
        },
        {
          "output_type": "stream",
          "name": "stdout",
          "text": [
            "Training Loss: 0.25132071433464687 \t Test Loss: 0.49179240469137825\n"
          ]
        },
        {
          "output_type": "stream",
          "name": "stderr",
          "text": [
            "Epoch 7/10 - Training: 100%|██████████| 782/782 [00:09<00:00, 84.93it/s]\n",
            "Epoch 7/10 - Testing: 100%|██████████| 375/375 [00:02<00:00, 140.96it/s]\n"
          ]
        },
        {
          "output_type": "stream",
          "name": "stdout",
          "text": [
            "Training Loss: 0.2427383978466193 \t Test Loss: 0.49242932720979055\n"
          ]
        },
        {
          "output_type": "stream",
          "name": "stderr",
          "text": [
            "Epoch 8/10 - Training: 100%|██████████| 782/782 [00:09<00:00, 82.12it/s]\n",
            "Epoch 8/10 - Testing: 100%|██████████| 375/375 [00:02<00:00, 148.17it/s]\n"
          ]
        },
        {
          "output_type": "stream",
          "name": "stdout",
          "text": [
            "Training Loss: 0.23422922939062119 \t Test Loss: 0.46829562246799467\n"
          ]
        },
        {
          "output_type": "stream",
          "name": "stderr",
          "text": [
            "Epoch 9/10 - Training: 100%|██████████| 782/782 [00:09<00:00, 83.02it/s]\n",
            "Epoch 9/10 - Testing: 100%|██████████| 375/375 [00:02<00:00, 144.48it/s]\n"
          ]
        },
        {
          "output_type": "stream",
          "name": "stdout",
          "text": [
            "Training Loss: 0.22837601993481318 \t Test Loss: 0.4565233874320984\n"
          ]
        },
        {
          "output_type": "stream",
          "name": "stderr",
          "text": [
            "Epoch 10/10 - Training: 100%|██████████| 782/782 [00:10<00:00, 77.86it/s]\n",
            "Epoch 10/10 - Testing: 100%|██████████| 375/375 [00:02<00:00, 145.13it/s]"
          ]
        },
        {
          "output_type": "stream",
          "name": "stdout",
          "text": [
            "Training Loss: 0.2224973182529211 \t Test Loss: 0.44923461850484214\n"
          ]
        },
        {
          "output_type": "stream",
          "name": "stderr",
          "text": [
            "\n"
          ]
        }
      ]
    },
    {
      "cell_type": "code",
      "source": [
        "# Calculate average test losses\n",
        "average_SGD_test_losses = np.mean(SGD_test_losses, axis=0)"
      ],
      "metadata": {
        "id": "1XEZfRxxECxI"
      },
      "execution_count": null,
      "outputs": []
    },
    {
      "cell_type": "code",
      "source": [
        "# Adam optim\n",
        "n_epochs = 10\n",
        "Adam_test_losses = []\n",
        "\n",
        "for i in range(5):\n",
        "  model = JosefNet(inshape=(28, 28), num_classes=10)\n",
        "  optimizer = torch.optim.Adam(model.parameters(), lr=0.01)\n",
        "  _, Adam_test_loss = train_benchmarker(optimizer, model, n_epochs=n_epochs)\n",
        "  Adam_test_losses.append(Adam_test_loss)"
      ],
      "metadata": {
        "colab": {
          "base_uri": "https://localhost:8080/"
        },
        "id": "KG-YkkEXB9zz",
        "outputId": "6b50d2d9-bec3-47b0-b141-33fd72227d3e"
      },
      "execution_count": null,
      "outputs": [
        {
          "output_type": "stream",
          "name": "stderr",
          "text": [
            "Epoch 1/10 - Training: 100%|██████████| 782/782 [00:19<00:00, 39.95it/s]\n",
            "Epoch 1/10 - Testing: 100%|██████████| 375/375 [00:02<00:00, 146.09it/s]\n"
          ]
        },
        {
          "output_type": "stream",
          "name": "stdout",
          "text": [
            "Training Loss: 0.3654317532678445 \t Test Loss: 0.5833315773407618\n"
          ]
        },
        {
          "output_type": "stream",
          "name": "stderr",
          "text": [
            "Epoch 2/10 - Training: 100%|██████████| 782/782 [00:32<00:00, 23.93it/s]\n",
            "Epoch 2/10 - Testing: 100%|██████████| 375/375 [00:02<00:00, 149.77it/s]\n"
          ]
        },
        {
          "output_type": "stream",
          "name": "stdout",
          "text": [
            "Training Loss: 0.2740085094968478 \t Test Loss: 0.5875008088747661\n"
          ]
        },
        {
          "output_type": "stream",
          "name": "stderr",
          "text": [
            "Epoch 3/10 - Training: 100%|██████████| 782/782 [00:30<00:00, 25.23it/s]\n",
            "Epoch 3/10 - Testing: 100%|██████████| 375/375 [00:03<00:00, 100.81it/s]\n"
          ]
        },
        {
          "output_type": "stream",
          "name": "stdout",
          "text": [
            "Training Loss: 0.2522111942370733 \t Test Loss: 0.5394477671980857\n"
          ]
        },
        {
          "output_type": "stream",
          "name": "stderr",
          "text": [
            "Epoch 4/10 - Training: 100%|██████████| 782/782 [00:31<00:00, 25.18it/s]\n",
            "Epoch 4/10 - Testing: 100%|██████████| 375/375 [00:02<00:00, 147.88it/s]\n"
          ]
        },
        {
          "output_type": "stream",
          "name": "stdout",
          "text": [
            "Training Loss: 0.2433232283492883 \t Test Loss: 0.4746378060976664\n"
          ]
        },
        {
          "output_type": "stream",
          "name": "stderr",
          "text": [
            "Epoch 5/10 - Training: 100%|██████████| 782/782 [00:31<00:00, 24.91it/s]\n",
            "Epoch 5/10 - Testing: 100%|██████████| 375/375 [00:03<00:00, 113.25it/s]\n"
          ]
        },
        {
          "output_type": "stream",
          "name": "stdout",
          "text": [
            "Training Loss: 0.23466990700364113 \t Test Loss: 0.4549342578252157\n"
          ]
        },
        {
          "output_type": "stream",
          "name": "stderr",
          "text": [
            "Epoch 6/10 - Training: 100%|██████████| 782/782 [00:30<00:00, 25.29it/s]\n",
            "Epoch 6/10 - Testing: 100%|██████████| 375/375 [00:02<00:00, 146.49it/s]\n"
          ]
        },
        {
          "output_type": "stream",
          "name": "stdout",
          "text": [
            "Training Loss: 0.22887196751435598 \t Test Loss: 0.5085959331393242\n"
          ]
        },
        {
          "output_type": "stream",
          "name": "stderr",
          "text": [
            "Epoch 7/10 - Training: 100%|██████████| 782/782 [00:31<00:00, 24.66it/s]\n",
            "Epoch 7/10 - Testing: 100%|██████████| 375/375 [00:02<00:00, 138.83it/s]\n"
          ]
        },
        {
          "output_type": "stream",
          "name": "stdout",
          "text": [
            "Training Loss: 0.22271690527598062 \t Test Loss: 0.48208165415128074\n"
          ]
        },
        {
          "output_type": "stream",
          "name": "stderr",
          "text": [
            "Epoch 8/10 - Training: 100%|██████████| 782/782 [00:31<00:00, 25.13it/s]\n",
            "Epoch 8/10 - Testing: 100%|██████████| 375/375 [00:02<00:00, 149.25it/s]\n"
          ]
        },
        {
          "output_type": "stream",
          "name": "stdout",
          "text": [
            "Training Loss: 0.21972410608517626 \t Test Loss: 0.5561249463160832\n"
          ]
        },
        {
          "output_type": "stream",
          "name": "stderr",
          "text": [
            "Epoch 9/10 - Training: 100%|██████████| 782/782 [00:31<00:00, 24.47it/s]\n",
            "Epoch 9/10 - Testing: 100%|██████████| 375/375 [00:03<00:00, 119.65it/s]\n"
          ]
        },
        {
          "output_type": "stream",
          "name": "stdout",
          "text": [
            "Training Loss: 0.2151648937612772 \t Test Loss: 0.4512778393427531\n"
          ]
        },
        {
          "output_type": "stream",
          "name": "stderr",
          "text": [
            "Epoch 10/10 - Training: 100%|██████████| 782/782 [00:31<00:00, 24.79it/s]\n",
            "Epoch 10/10 - Testing: 100%|██████████| 375/375 [00:03<00:00, 100.71it/s]\n"
          ]
        },
        {
          "output_type": "stream",
          "name": "stdout",
          "text": [
            "Training Loss: 0.2123339739938577 \t Test Loss: 0.46494236395756405\n"
          ]
        },
        {
          "output_type": "stream",
          "name": "stderr",
          "text": [
            "Epoch 1/10 - Training: 100%|██████████| 782/782 [00:18<00:00, 41.33it/s]\n",
            "Epoch 1/10 - Testing: 100%|██████████| 375/375 [00:02<00:00, 144.79it/s]\n"
          ]
        },
        {
          "output_type": "stream",
          "name": "stdout",
          "text": [
            "Training Loss: 0.3539737274547418 \t Test Loss: 0.5288344578742981\n"
          ]
        },
        {
          "output_type": "stream",
          "name": "stderr",
          "text": [
            "Epoch 2/10 - Training: 100%|██████████| 782/782 [00:32<00:00, 23.73it/s]\n",
            "Epoch 2/10 - Testing: 100%|██████████| 375/375 [00:02<00:00, 145.53it/s]\n"
          ]
        },
        {
          "output_type": "stream",
          "name": "stdout",
          "text": [
            "Training Loss: 0.264236765747269 \t Test Loss: 0.5591109616557757\n"
          ]
        },
        {
          "output_type": "stream",
          "name": "stderr",
          "text": [
            "Epoch 3/10 - Training: 100%|██████████| 782/782 [00:31<00:00, 25.03it/s]\n",
            "Epoch 3/10 - Testing: 100%|██████████| 375/375 [00:02<00:00, 144.38it/s]\n"
          ]
        },
        {
          "output_type": "stream",
          "name": "stdout",
          "text": [
            "Training Loss: 0.25424682000279425 \t Test Loss: 0.5818981868028641\n"
          ]
        },
        {
          "output_type": "stream",
          "name": "stderr",
          "text": [
            "Epoch 4/10 - Training: 100%|██████████| 782/782 [00:31<00:00, 24.64it/s]\n",
            "Epoch 4/10 - Testing: 100%|██████████| 375/375 [00:02<00:00, 146.92it/s]\n"
          ]
        },
        {
          "output_type": "stream",
          "name": "stdout",
          "text": [
            "Training Loss: 0.2363671946277221 \t Test Loss: 0.5115560232400894\n"
          ]
        },
        {
          "output_type": "stream",
          "name": "stderr",
          "text": [
            "Epoch 5/10 - Training: 100%|██████████| 782/782 [00:31<00:00, 25.00it/s]\n",
            "Epoch 5/10 - Testing: 100%|██████████| 375/375 [00:03<00:00, 112.22it/s]\n"
          ]
        },
        {
          "output_type": "stream",
          "name": "stdout",
          "text": [
            "Training Loss: 0.22673394242922465 \t Test Loss: 0.46908511624733606\n"
          ]
        },
        {
          "output_type": "stream",
          "name": "stderr",
          "text": [
            "Epoch 6/10 - Training: 100%|██████████| 782/782 [00:33<00:00, 23.32it/s]\n",
            "Epoch 6/10 - Testing: 100%|██████████| 375/375 [00:02<00:00, 150.18it/s]\n"
          ]
        },
        {
          "output_type": "stream",
          "name": "stdout",
          "text": [
            "Training Loss: 0.22332638053099316 \t Test Loss: 0.45198037900527316\n"
          ]
        },
        {
          "output_type": "stream",
          "name": "stderr",
          "text": [
            "Epoch 7/10 - Training: 100%|██████████| 782/782 [00:32<00:00, 23.77it/s]\n",
            "Epoch 7/10 - Testing: 100%|██████████| 375/375 [00:02<00:00, 143.23it/s]\n"
          ]
        },
        {
          "output_type": "stream",
          "name": "stdout",
          "text": [
            "Training Loss: 0.21857802060246467 \t Test Loss: 0.45025641266504923\n"
          ]
        },
        {
          "output_type": "stream",
          "name": "stderr",
          "text": [
            "Epoch 8/10 - Training: 100%|██████████| 782/782 [00:31<00:00, 24.98it/s]\n",
            "Epoch 8/10 - Testing: 100%|██████████| 375/375 [00:02<00:00, 147.16it/s]\n"
          ]
        },
        {
          "output_type": "stream",
          "name": "stdout",
          "text": [
            "Training Loss: 0.2143687479669849 \t Test Loss: 0.4996988552411397\n"
          ]
        },
        {
          "output_type": "stream",
          "name": "stderr",
          "text": [
            "Epoch 9/10 - Training: 100%|██████████| 782/782 [00:32<00:00, 24.43it/s]\n",
            "Epoch 9/10 - Testing: 100%|██████████| 375/375 [00:02<00:00, 137.11it/s]\n"
          ]
        },
        {
          "output_type": "stream",
          "name": "stdout",
          "text": [
            "Training Loss: 0.2111202954252561 \t Test Loss: 0.49969469267129896\n"
          ]
        },
        {
          "output_type": "stream",
          "name": "stderr",
          "text": [
            "Epoch 10/10 - Training: 100%|██████████| 782/782 [00:31<00:00, 25.10it/s]\n",
            "Epoch 10/10 - Testing: 100%|██████████| 375/375 [00:03<00:00, 119.21it/s]\n"
          ]
        },
        {
          "output_type": "stream",
          "name": "stdout",
          "text": [
            "Training Loss: 0.2302551020483176 \t Test Loss: 0.47922955787181853\n"
          ]
        },
        {
          "output_type": "stream",
          "name": "stderr",
          "text": [
            "Epoch 1/10 - Training: 100%|██████████| 782/782 [00:19<00:00, 40.59it/s]\n",
            "Epoch 1/10 - Testing: 100%|██████████| 375/375 [00:02<00:00, 148.91it/s]\n"
          ]
        },
        {
          "output_type": "stream",
          "name": "stdout",
          "text": [
            "Training Loss: 0.35898554016153017 \t Test Loss: 0.601854331334432\n"
          ]
        },
        {
          "output_type": "stream",
          "name": "stderr",
          "text": [
            "Epoch 2/10 - Training: 100%|██████████| 782/782 [00:32<00:00, 23.82it/s]\n",
            "Epoch 2/10 - Testing: 100%|██████████| 375/375 [00:02<00:00, 149.72it/s]\n"
          ]
        },
        {
          "output_type": "stream",
          "name": "stdout",
          "text": [
            "Training Loss: 0.27247007976472376 \t Test Loss: 0.542636224548022\n"
          ]
        },
        {
          "output_type": "stream",
          "name": "stderr",
          "text": [
            "Epoch 3/10 - Training: 100%|██████████| 782/782 [00:31<00:00, 25.17it/s]\n",
            "Epoch 3/10 - Testing: 100%|██████████| 375/375 [00:02<00:00, 148.93it/s]\n"
          ]
        },
        {
          "output_type": "stream",
          "name": "stdout",
          "text": [
            "Training Loss: 0.25296323067943255 \t Test Loss: 0.4784342621962229\n"
          ]
        },
        {
          "output_type": "stream",
          "name": "stderr",
          "text": [
            "Epoch 4/10 - Training: 100%|██████████| 782/782 [00:32<00:00, 24.03it/s]\n",
            "Epoch 4/10 - Testing: 100%|██████████| 375/375 [00:02<00:00, 151.98it/s]\n"
          ]
        },
        {
          "output_type": "stream",
          "name": "stdout",
          "text": [
            "Training Loss: 0.2385025696158409 \t Test Loss: 0.5019832393924395\n"
          ]
        },
        {
          "output_type": "stream",
          "name": "stderr",
          "text": [
            "Epoch 5/10 - Training: 100%|██████████| 782/782 [00:30<00:00, 25.27it/s]\n",
            "Epoch 5/10 - Testing: 100%|██████████| 375/375 [00:03<00:00, 111.47it/s]\n"
          ]
        },
        {
          "output_type": "stream",
          "name": "stdout",
          "text": [
            "Training Loss: 0.23276634699602922 \t Test Loss: 0.4488249014218648\n"
          ]
        },
        {
          "output_type": "stream",
          "name": "stderr",
          "text": [
            "Epoch 6/10 - Training: 100%|██████████| 782/782 [00:31<00:00, 24.94it/s]\n",
            "Epoch 6/10 - Testing: 100%|██████████| 375/375 [00:02<00:00, 144.03it/s]\n"
          ]
        },
        {
          "output_type": "stream",
          "name": "stdout",
          "text": [
            "Training Loss: 0.22475620307028293 \t Test Loss: 0.595899116118749\n"
          ]
        },
        {
          "output_type": "stream",
          "name": "stderr",
          "text": [
            "Epoch 7/10 - Training: 100%|██████████| 782/782 [00:31<00:00, 24.80it/s]\n",
            "Epoch 7/10 - Testing: 100%|██████████| 375/375 [00:03<00:00, 110.79it/s]\n"
          ]
        },
        {
          "output_type": "stream",
          "name": "stdout",
          "text": [
            "Training Loss: 0.22245219213267167 \t Test Loss: 0.5178749318122864\n"
          ]
        },
        {
          "output_type": "stream",
          "name": "stderr",
          "text": [
            "Epoch 8/10 - Training: 100%|██████████| 782/782 [00:31<00:00, 25.07it/s]\n",
            "Epoch 8/10 - Testing: 100%|██████████| 375/375 [00:02<00:00, 144.68it/s]\n"
          ]
        },
        {
          "output_type": "stream",
          "name": "stdout",
          "text": [
            "Training Loss: 0.21556083432336648 \t Test Loss: 0.49913416894276935\n"
          ]
        },
        {
          "output_type": "stream",
          "name": "stderr",
          "text": [
            "Epoch 9/10 - Training: 100%|██████████| 782/782 [00:31<00:00, 24.49it/s]\n",
            "Epoch 9/10 - Testing: 100%|██████████| 375/375 [00:02<00:00, 144.52it/s]\n"
          ]
        },
        {
          "output_type": "stream",
          "name": "stdout",
          "text": [
            "Training Loss: 0.20958650760104258 \t Test Loss: 0.4604036008119583\n"
          ]
        },
        {
          "output_type": "stream",
          "name": "stderr",
          "text": [
            "Epoch 10/10 - Training: 100%|██████████| 782/782 [00:31<00:00, 25.04it/s]\n",
            "Epoch 10/10 - Testing: 100%|██████████| 375/375 [00:02<00:00, 134.46it/s]\n"
          ]
        },
        {
          "output_type": "stream",
          "name": "stdout",
          "text": [
            "Training Loss: 0.2187787623355786 \t Test Loss: 0.4820935239394506\n"
          ]
        },
        {
          "output_type": "stream",
          "name": "stderr",
          "text": [
            "Epoch 1/10 - Training: 100%|██████████| 782/782 [00:19<00:00, 40.27it/s]\n",
            "Epoch 1/10 - Testing: 100%|██████████| 375/375 [00:03<00:00, 102.28it/s]\n"
          ]
        },
        {
          "output_type": "stream",
          "name": "stdout",
          "text": [
            "Training Loss: 0.3659853796760241 \t Test Loss: 0.5479788842598597\n"
          ]
        },
        {
          "output_type": "stream",
          "name": "stderr",
          "text": [
            "Epoch 2/10 - Training: 100%|██████████| 782/782 [00:33<00:00, 23.65it/s]\n",
            "Epoch 2/10 - Testing: 100%|██████████| 375/375 [00:02<00:00, 144.16it/s]\n"
          ]
        },
        {
          "output_type": "stream",
          "name": "stdout",
          "text": [
            "Training Loss: 0.2675914478003979 \t Test Loss: 0.6193021732568741\n"
          ]
        },
        {
          "output_type": "stream",
          "name": "stderr",
          "text": [
            "Epoch 3/10 - Training: 100%|██████████| 782/782 [00:31<00:00, 25.17it/s]\n",
            "Epoch 3/10 - Testing: 100%|██████████| 375/375 [00:02<00:00, 144.31it/s]\n"
          ]
        },
        {
          "output_type": "stream",
          "name": "stdout",
          "text": [
            "Training Loss: 0.24650632084409396 \t Test Loss: 0.7361910355488459\n"
          ]
        },
        {
          "output_type": "stream",
          "name": "stderr",
          "text": [
            "Epoch 4/10 - Training: 100%|██████████| 782/782 [00:31<00:00, 24.60it/s]\n",
            "Epoch 4/10 - Testing: 100%|██████████| 375/375 [00:02<00:00, 147.27it/s]\n"
          ]
        },
        {
          "output_type": "stream",
          "name": "stdout",
          "text": [
            "Training Loss: 0.2466878478229046 \t Test Loss: 0.4815908111135165\n"
          ]
        },
        {
          "output_type": "stream",
          "name": "stderr",
          "text": [
            "Epoch 5/10 - Training: 100%|██████████| 782/782 [00:31<00:00, 25.20it/s]\n",
            "Epoch 5/10 - Testing: 100%|██████████| 375/375 [00:02<00:00, 148.92it/s]\n"
          ]
        },
        {
          "output_type": "stream",
          "name": "stdout",
          "text": [
            "Training Loss: 0.22869709129134813 \t Test Loss: 0.49099840025107067\n"
          ]
        },
        {
          "output_type": "stream",
          "name": "stderr",
          "text": [
            "Epoch 6/10 - Training: 100%|██████████| 782/782 [00:31<00:00, 24.62it/s]\n",
            "Epoch 6/10 - Testing: 100%|██████████| 375/375 [00:02<00:00, 148.39it/s]\n"
          ]
        },
        {
          "output_type": "stream",
          "name": "stdout",
          "text": [
            "Training Loss: 0.21918948619067669 \t Test Loss: 0.4855769739548365\n"
          ]
        },
        {
          "output_type": "stream",
          "name": "stderr",
          "text": [
            "Epoch 7/10 - Training: 100%|██████████| 782/782 [00:31<00:00, 25.21it/s]\n",
            "Epoch 7/10 - Testing: 100%|██████████| 375/375 [00:02<00:00, 125.92it/s]\n"
          ]
        },
        {
          "output_type": "stream",
          "name": "stdout",
          "text": [
            "Training Loss: 0.21414448607961337 \t Test Loss: 0.49175359867016477\n"
          ]
        },
        {
          "output_type": "stream",
          "name": "stderr",
          "text": [
            "Epoch 8/10 - Training: 100%|██████████| 782/782 [00:32<00:00, 23.97it/s]\n",
            "Epoch 8/10 - Testing: 100%|██████████| 375/375 [00:02<00:00, 146.91it/s]\n"
          ]
        },
        {
          "output_type": "stream",
          "name": "stdout",
          "text": [
            "Training Loss: 0.21202878732979297 \t Test Loss: 0.4798419323563576\n"
          ]
        },
        {
          "output_type": "stream",
          "name": "stderr",
          "text": [
            "Epoch 9/10 - Training: 100%|██████████| 782/782 [00:31<00:00, 25.17it/s]\n",
            "Epoch 9/10 - Testing: 100%|██████████| 375/375 [00:03<00:00, 105.65it/s]\n"
          ]
        },
        {
          "output_type": "stream",
          "name": "stdout",
          "text": [
            "Training Loss: 0.21019598935047784 \t Test Loss: 0.46873043829202654\n"
          ]
        },
        {
          "output_type": "stream",
          "name": "stderr",
          "text": [
            "Epoch 10/10 - Training: 100%|██████████| 782/782 [00:31<00:00, 25.04it/s]\n",
            "Epoch 10/10 - Testing: 100%|██████████| 375/375 [00:02<00:00, 144.33it/s]\n"
          ]
        },
        {
          "output_type": "stream",
          "name": "stdout",
          "text": [
            "Training Loss: 0.2163353817462921 \t Test Loss: 0.48741906056801476\n"
          ]
        },
        {
          "output_type": "stream",
          "name": "stderr",
          "text": [
            "Epoch 1/10 - Training: 100%|██████████| 782/782 [00:19<00:00, 40.63it/s]\n",
            "Epoch 1/10 - Testing: 100%|██████████| 375/375 [00:02<00:00, 128.09it/s]\n"
          ]
        },
        {
          "output_type": "stream",
          "name": "stdout",
          "text": [
            "Training Loss: 0.36483037168780963 \t Test Loss: 0.5417463071346283\n"
          ]
        },
        {
          "output_type": "stream",
          "name": "stderr",
          "text": [
            "Epoch 2/10 - Training: 100%|██████████| 782/782 [00:31<00:00, 24.50it/s]\n",
            "Epoch 2/10 - Testing: 100%|██████████| 375/375 [00:02<00:00, 148.17it/s]\n"
          ]
        },
        {
          "output_type": "stream",
          "name": "stdout",
          "text": [
            "Training Loss: 0.2765614482363065 \t Test Loss: 0.5135874580542247\n"
          ]
        },
        {
          "output_type": "stream",
          "name": "stderr",
          "text": [
            "Epoch 3/10 - Training: 100%|██████████| 782/782 [00:31<00:00, 24.48it/s]\n",
            "Epoch 3/10 - Testing: 100%|██████████| 375/375 [00:02<00:00, 143.70it/s]\n"
          ]
        },
        {
          "output_type": "stream",
          "name": "stdout",
          "text": [
            "Training Loss: 0.25574283040563267 \t Test Loss: 0.5408303540150324\n"
          ]
        },
        {
          "output_type": "stream",
          "name": "stderr",
          "text": [
            "Epoch 4/10 - Training: 100%|██████████| 782/782 [00:30<00:00, 25.30it/s]\n",
            "Epoch 4/10 - Testing: 100%|██████████| 375/375 [00:02<00:00, 147.13it/s]\n"
          ]
        },
        {
          "output_type": "stream",
          "name": "stdout",
          "text": [
            "Training Loss: 0.24624789971113206 \t Test Loss: 0.5020753742059072\n"
          ]
        },
        {
          "output_type": "stream",
          "name": "stderr",
          "text": [
            "Epoch 5/10 - Training: 100%|██████████| 782/782 [00:31<00:00, 24.70it/s]\n",
            "Epoch 5/10 - Testing: 100%|██████████| 375/375 [00:02<00:00, 151.73it/s]\n"
          ]
        },
        {
          "output_type": "stream",
          "name": "stdout",
          "text": [
            "Training Loss: 0.23750571478903293 \t Test Loss: 0.48759146718184154\n"
          ]
        },
        {
          "output_type": "stream",
          "name": "stderr",
          "text": [
            "Epoch 6/10 - Training: 100%|██████████| 782/782 [00:32<00:00, 24.31it/s]\n",
            "Epoch 6/10 - Testing: 100%|██████████| 375/375 [00:02<00:00, 148.17it/s]\n"
          ]
        },
        {
          "output_type": "stream",
          "name": "stdout",
          "text": [
            "Training Loss: 0.23083959203461807 \t Test Loss: 0.46708949728806815\n"
          ]
        },
        {
          "output_type": "stream",
          "name": "stderr",
          "text": [
            "Epoch 7/10 - Training: 100%|██████████| 782/782 [00:31<00:00, 24.60it/s]\n",
            "Epoch 7/10 - Testing: 100%|██████████| 375/375 [00:02<00:00, 145.51it/s]\n"
          ]
        },
        {
          "output_type": "stream",
          "name": "stdout",
          "text": [
            "Training Loss: 0.22450449765225253 \t Test Loss: 0.490779957652092\n"
          ]
        },
        {
          "output_type": "stream",
          "name": "stderr",
          "text": [
            "Epoch 8/10 - Training: 100%|██████████| 782/782 [00:30<00:00, 25.24it/s]\n",
            "Epoch 8/10 - Testing: 100%|██████████| 375/375 [00:02<00:00, 144.72it/s]\n"
          ]
        },
        {
          "output_type": "stream",
          "name": "stdout",
          "text": [
            "Training Loss: 0.2216681248396635 \t Test Loss: 0.4642213821808497\n"
          ]
        },
        {
          "output_type": "stream",
          "name": "stderr",
          "text": [
            "Epoch 9/10 - Training: 100%|██████████| 782/782 [00:32<00:00, 24.40it/s]\n",
            "Epoch 9/10 - Testing: 100%|██████████| 375/375 [00:02<00:00, 148.89it/s]\n"
          ]
        },
        {
          "output_type": "stream",
          "name": "stdout",
          "text": [
            "Training Loss: 0.22076052325963974 \t Test Loss: 0.5707468854983647\n"
          ]
        },
        {
          "output_type": "stream",
          "name": "stderr",
          "text": [
            "Epoch 10/10 - Training: 100%|██████████| 782/782 [00:31<00:00, 25.19it/s]\n",
            "Epoch 10/10 - Testing: 100%|██████████| 375/375 [00:02<00:00, 134.70it/s]"
          ]
        },
        {
          "output_type": "stream",
          "name": "stdout",
          "text": [
            "Training Loss: 0.2116421319829921 \t Test Loss: 0.46040644123156865\n"
          ]
        },
        {
          "output_type": "stream",
          "name": "stderr",
          "text": [
            "\n"
          ]
        }
      ]
    },
    {
      "cell_type": "code",
      "source": [
        "# Calculate average test losses\n",
        "average_Adam_test_losses = np.mean(Adam_test_losses, axis=0)"
      ],
      "metadata": {
        "id": "Pr2BVSU0IUgE"
      },
      "execution_count": null,
      "outputs": []
    },
    {
      "cell_type": "code",
      "source": [
        "# Adam optim\n",
        "n_epochs = 10\n",
        "RMS_test_losses = []\n",
        "\n",
        "for i in range(5):\n",
        "  model = JosefNet(inshape=(28, 28), num_classes=10)\n",
        "  optimizer = torch.optim.RMSprop(model.parameters(), lr=0.01)\n",
        "  _, RMS_test_loss = train_benchmarker(optimizer, model, n_epochs=n_epochs)\n",
        "  RMS_test_losses.append(RMS_test_loss)"
      ],
      "metadata": {
        "colab": {
          "base_uri": "https://localhost:8080/"
        },
        "id": "wiQDTpVAM4Mg",
        "outputId": "0b37e02d-6cbe-4261-cca1-bf8e806e1809"
      },
      "execution_count": null,
      "outputs": [
        {
          "output_type": "stream",
          "name": "stderr",
          "text": [
            "Epoch 1/10 - Training: 100%|██████████| 782/782 [00:15<00:00, 51.65it/s]\n",
            "Epoch 1/10 - Testing: 100%|██████████| 375/375 [00:04<00:00, 82.12it/s]\n"
          ]
        },
        {
          "output_type": "stream",
          "name": "stdout",
          "text": [
            "Training Loss: 6.0310569294095036 \t Test Loss: 1.0862604602177939\n"
          ]
        },
        {
          "output_type": "stream",
          "name": "stderr",
          "text": [
            "Epoch 2/10 - Training: 100%|██████████| 782/782 [00:15<00:00, 51.84it/s]\n",
            "Epoch 2/10 - Testing: 100%|██████████| 375/375 [00:02<00:00, 147.64it/s]\n"
          ]
        },
        {
          "output_type": "stream",
          "name": "stdout",
          "text": [
            "Training Loss: 0.32885370299220085 \t Test Loss: 0.638817725499471\n"
          ]
        },
        {
          "output_type": "stream",
          "name": "stderr",
          "text": [
            "Epoch 3/10 - Training: 100%|██████████| 782/782 [00:14<00:00, 52.80it/s]\n",
            "Epoch 3/10 - Testing: 100%|██████████| 375/375 [00:02<00:00, 151.32it/s]\n"
          ]
        },
        {
          "output_type": "stream",
          "name": "stdout",
          "text": [
            "Training Loss: 0.3203580447137356 \t Test Loss: 0.7279091687599818\n"
          ]
        },
        {
          "output_type": "stream",
          "name": "stderr",
          "text": [
            "Epoch 4/10 - Training: 100%|██████████| 782/782 [00:14<00:00, 52.80it/s]\n",
            "Epoch 4/10 - Testing: 100%|██████████| 375/375 [00:02<00:00, 134.41it/s]\n"
          ]
        },
        {
          "output_type": "stream",
          "name": "stdout",
          "text": [
            "Training Loss: 0.28666069702307384 \t Test Loss: 0.5081834407250087\n"
          ]
        },
        {
          "output_type": "stream",
          "name": "stderr",
          "text": [
            "Epoch 5/10 - Training: 100%|██████████| 782/782 [00:15<00:00, 49.04it/s]\n",
            "Epoch 5/10 - Testing: 100%|██████████| 375/375 [00:02<00:00, 139.11it/s]\n"
          ]
        },
        {
          "output_type": "stream",
          "name": "stdout",
          "text": [
            "Training Loss: 0.2908687073191007 \t Test Loss: 0.5410965729355812\n"
          ]
        },
        {
          "output_type": "stream",
          "name": "stderr",
          "text": [
            "Epoch 6/10 - Training: 100%|██████████| 782/782 [00:19<00:00, 41.16it/s]\n",
            "Epoch 6/10 - Testing: 100%|██████████| 375/375 [00:02<00:00, 133.32it/s]\n"
          ]
        },
        {
          "output_type": "stream",
          "name": "stdout",
          "text": [
            "Training Loss: 0.2592891146739324 \t Test Loss: 0.7584362096389134\n"
          ]
        },
        {
          "output_type": "stream",
          "name": "stderr",
          "text": [
            "Epoch 7/10 - Training: 100%|██████████| 782/782 [00:24<00:00, 31.42it/s]\n",
            "Epoch 7/10 - Testing: 100%|██████████| 375/375 [00:03<00:00, 111.96it/s]\n"
          ]
        },
        {
          "output_type": "stream",
          "name": "stdout",
          "text": [
            "Training Loss: 0.261046594619751 \t Test Loss: 0.5853155111074447\n"
          ]
        },
        {
          "output_type": "stream",
          "name": "stderr",
          "text": [
            "Epoch 8/10 - Training: 100%|██████████| 782/782 [00:29<00:00, 26.57it/s]\n",
            "Epoch 8/10 - Testing: 100%|██████████| 375/375 [00:02<00:00, 146.78it/s]\n"
          ]
        },
        {
          "output_type": "stream",
          "name": "stdout",
          "text": [
            "Training Loss: 0.24715049920479457 \t Test Loss: 0.5599665404160817\n"
          ]
        },
        {
          "output_type": "stream",
          "name": "stderr",
          "text": [
            "Epoch 9/10 - Training: 100%|██████████| 782/782 [00:40<00:00, 19.43it/s]\n",
            "Epoch 9/10 - Testing: 100%|██████████| 375/375 [00:02<00:00, 146.32it/s]\n"
          ]
        },
        {
          "output_type": "stream",
          "name": "stdout",
          "text": [
            "Training Loss: 0.24380170801778633 \t Test Loss: 0.6127594531774521\n"
          ]
        },
        {
          "output_type": "stream",
          "name": "stderr",
          "text": [
            "Epoch 10/10 - Training: 100%|██████████| 782/782 [00:44<00:00, 17.46it/s]\n",
            "Epoch 10/10 - Testing: 100%|██████████| 375/375 [00:03<00:00, 112.58it/s]\n"
          ]
        },
        {
          "output_type": "stream",
          "name": "stdout",
          "text": [
            "Training Loss: 0.24343526390691597 \t Test Loss: 0.5536892920335134\n"
          ]
        },
        {
          "output_type": "stream",
          "name": "stderr",
          "text": [
            "Epoch 1/10 - Training: 100%|██████████| 782/782 [00:14<00:00, 52.93it/s]\n",
            "Epoch 1/10 - Testing: 100%|██████████| 375/375 [00:02<00:00, 145.04it/s]\n"
          ]
        },
        {
          "output_type": "stream",
          "name": "stdout",
          "text": [
            "Training Loss: 7.513359728912512 \t Test Loss: 0.8332005533377329\n"
          ]
        },
        {
          "output_type": "stream",
          "name": "stderr",
          "text": [
            "Epoch 2/10 - Training: 100%|██████████| 782/782 [00:14<00:00, 52.65it/s]\n",
            "Epoch 2/10 - Testing: 100%|██████████| 375/375 [00:02<00:00, 134.28it/s]\n"
          ]
        },
        {
          "output_type": "stream",
          "name": "stdout",
          "text": [
            "Training Loss: 0.31652966092526913 \t Test Loss: 0.558867587685585\n"
          ]
        },
        {
          "output_type": "stream",
          "name": "stderr",
          "text": [
            "Epoch 3/10 - Training: 100%|██████████| 782/782 [00:14<00:00, 52.77it/s]\n",
            "Epoch 3/10 - Testing: 100%|██████████| 375/375 [00:03<00:00, 97.88it/s] \n"
          ]
        },
        {
          "output_type": "stream",
          "name": "stdout",
          "text": [
            "Training Loss: 0.29831703410545984 \t Test Loss: 0.6096216421524684\n"
          ]
        },
        {
          "output_type": "stream",
          "name": "stderr",
          "text": [
            "Epoch 4/10 - Training: 100%|██████████| 782/782 [00:14<00:00, 52.27it/s]\n",
            "Epoch 4/10 - Testing: 100%|██████████| 375/375 [00:02<00:00, 143.51it/s]\n"
          ]
        },
        {
          "output_type": "stream",
          "name": "stdout",
          "text": [
            "Training Loss: 0.28196839260061585 \t Test Loss: 1.0332829486529032\n"
          ]
        },
        {
          "output_type": "stream",
          "name": "stderr",
          "text": [
            "Epoch 5/10 - Training: 100%|██████████| 782/782 [00:15<00:00, 50.64it/s]\n",
            "Epoch 5/10 - Testing: 100%|██████████| 375/375 [00:02<00:00, 143.02it/s]\n"
          ]
        },
        {
          "output_type": "stream",
          "name": "stdout",
          "text": [
            "Training Loss: 0.26977276037136716 \t Test Loss: 0.5470475015640259\n"
          ]
        },
        {
          "output_type": "stream",
          "name": "stderr",
          "text": [
            "Epoch 6/10 - Training: 100%|██████████| 782/782 [00:19<00:00, 39.99it/s]\n",
            "Epoch 6/10 - Testing: 100%|██████████| 375/375 [00:02<00:00, 147.05it/s]\n"
          ]
        },
        {
          "output_type": "stream",
          "name": "stdout",
          "text": [
            "Training Loss: 0.2504699350496133 \t Test Loss: 0.7433851128021876\n"
          ]
        },
        {
          "output_type": "stream",
          "name": "stderr",
          "text": [
            "Epoch 7/10 - Training: 100%|██████████| 782/782 [00:25<00:00, 31.19it/s]\n",
            "Epoch 7/10 - Testing: 100%|██████████| 375/375 [00:02<00:00, 147.46it/s]\n"
          ]
        },
        {
          "output_type": "stream",
          "name": "stdout",
          "text": [
            "Training Loss: 0.2425496401190758 \t Test Loss: 0.5163637398680051\n"
          ]
        },
        {
          "output_type": "stream",
          "name": "stderr",
          "text": [
            "Epoch 8/10 - Training: 100%|██████████| 782/782 [00:29<00:00, 26.27it/s]\n",
            "Epoch 8/10 - Testing: 100%|██████████| 375/375 [00:02<00:00, 140.60it/s]\n"
          ]
        },
        {
          "output_type": "stream",
          "name": "stdout",
          "text": [
            "Training Loss: 0.2396071978956461 \t Test Loss: 0.5404832536180814\n"
          ]
        },
        {
          "output_type": "stream",
          "name": "stderr",
          "text": [
            "Epoch 9/10 - Training: 100%|██████████| 782/782 [00:39<00:00, 19.77it/s]\n",
            "Epoch 9/10 - Testing: 100%|██████████| 375/375 [00:03<00:00, 104.28it/s]\n"
          ]
        },
        {
          "output_type": "stream",
          "name": "stdout",
          "text": [
            "Training Loss: 0.23758097997307778 \t Test Loss: 0.5571495739618937\n"
          ]
        },
        {
          "output_type": "stream",
          "name": "stderr",
          "text": [
            "Epoch 10/10 - Training: 100%|██████████| 782/782 [00:44<00:00, 17.74it/s]\n",
            "Epoch 10/10 - Testing: 100%|██████████| 375/375 [00:02<00:00, 149.11it/s]\n"
          ]
        },
        {
          "output_type": "stream",
          "name": "stdout",
          "text": [
            "Training Loss: 0.23382302298645177 \t Test Loss: 1.7563684943119684\n"
          ]
        },
        {
          "output_type": "stream",
          "name": "stderr",
          "text": [
            "Epoch 1/10 - Training: 100%|██████████| 782/782 [00:14<00:00, 52.75it/s]\n",
            "Epoch 1/10 - Testing: 100%|██████████| 375/375 [00:02<00:00, 144.31it/s]\n"
          ]
        },
        {
          "output_type": "stream",
          "name": "stdout",
          "text": [
            "Training Loss: 5.059769218325615 \t Test Loss: 0.8130136904716492\n"
          ]
        },
        {
          "output_type": "stream",
          "name": "stderr",
          "text": [
            "Epoch 2/10 - Training: 100%|██████████| 782/782 [00:14<00:00, 52.40it/s]\n",
            "Epoch 2/10 - Testing: 100%|██████████| 375/375 [00:03<00:00, 108.12it/s]\n"
          ]
        },
        {
          "output_type": "stream",
          "name": "stdout",
          "text": [
            "Training Loss: 0.38942385417222974 \t Test Loss: 0.828550454735756\n"
          ]
        },
        {
          "output_type": "stream",
          "name": "stderr",
          "text": [
            "Epoch 3/10 - Training: 100%|██████████| 782/782 [00:14<00:00, 52.25it/s]\n",
            "Epoch 3/10 - Testing: 100%|██████████| 375/375 [00:02<00:00, 144.08it/s]\n"
          ]
        },
        {
          "output_type": "stream",
          "name": "stdout",
          "text": [
            "Training Loss: 0.39429609855016073 \t Test Loss: 0.6359365843931833\n"
          ]
        },
        {
          "output_type": "stream",
          "name": "stderr",
          "text": [
            "Epoch 4/10 - Training: 100%|██████████| 782/782 [00:14<00:00, 53.01it/s]\n",
            "Epoch 4/10 - Testing: 100%|██████████| 375/375 [00:02<00:00, 148.14it/s]\n"
          ]
        },
        {
          "output_type": "stream",
          "name": "stdout",
          "text": [
            "Training Loss: 0.3251425269941489 \t Test Loss: 0.7115254343350729\n"
          ]
        },
        {
          "output_type": "stream",
          "name": "stderr",
          "text": [
            "Epoch 5/10 - Training: 100%|██████████| 782/782 [00:15<00:00, 51.30it/s]\n",
            "Epoch 5/10 - Testing: 100%|██████████| 375/375 [00:03<00:00, 100.79it/s]\n"
          ]
        },
        {
          "output_type": "stream",
          "name": "stdout",
          "text": [
            "Training Loss: 0.29494165566563607 \t Test Loss: 0.8718026615778605\n"
          ]
        },
        {
          "output_type": "stream",
          "name": "stderr",
          "text": [
            "Epoch 6/10 - Training: 100%|██████████| 782/782 [00:18<00:00, 42.97it/s]\n",
            "Epoch 6/10 - Testing: 100%|██████████| 375/375 [00:02<00:00, 147.62it/s]\n"
          ]
        },
        {
          "output_type": "stream",
          "name": "stdout",
          "text": [
            "Training Loss: 0.28358923706412315 \t Test Loss: 0.5852385183970134\n"
          ]
        },
        {
          "output_type": "stream",
          "name": "stderr",
          "text": [
            "Epoch 7/10 - Training: 100%|██████████| 782/782 [00:25<00:00, 31.12it/s]\n",
            "Epoch 7/10 - Testing: 100%|██████████| 375/375 [00:02<00:00, 145.23it/s]\n"
          ]
        },
        {
          "output_type": "stream",
          "name": "stdout",
          "text": [
            "Training Loss: 0.27935892542203267 \t Test Loss: 0.5847567280133565\n"
          ]
        },
        {
          "output_type": "stream",
          "name": "stderr",
          "text": [
            "Epoch 8/10 - Training: 100%|██████████| 782/782 [00:29<00:00, 26.28it/s]\n",
            "Epoch 8/10 - Testing: 100%|██████████| 375/375 [00:03<00:00, 107.80it/s]\n"
          ]
        },
        {
          "output_type": "stream",
          "name": "stdout",
          "text": [
            "Training Loss: 0.2722424626549085 \t Test Loss: 0.6611277210712433\n"
          ]
        },
        {
          "output_type": "stream",
          "name": "stderr",
          "text": [
            "Epoch 9/10 - Training: 100%|██████████| 782/782 [00:40<00:00, 19.27it/s]\n",
            "Epoch 9/10 - Testing: 100%|██████████| 375/375 [00:02<00:00, 143.12it/s]\n"
          ]
        },
        {
          "output_type": "stream",
          "name": "stdout",
          "text": [
            "Training Loss: 0.2703864302734534 \t Test Loss: 0.6017201855580012\n"
          ]
        },
        {
          "output_type": "stream",
          "name": "stderr",
          "text": [
            "Epoch 10/10 - Training: 100%|██████████| 782/782 [00:42<00:00, 18.32it/s]\n",
            "Epoch 10/10 - Testing: 100%|██████████| 375/375 [00:02<00:00, 144.32it/s]\n"
          ]
        },
        {
          "output_type": "stream",
          "name": "stdout",
          "text": [
            "Training Loss: 0.2641073020597299 \t Test Loss: 0.6698999419609706\n"
          ]
        },
        {
          "output_type": "stream",
          "name": "stderr",
          "text": [
            "Epoch 1/10 - Training: 100%|██████████| 782/782 [00:15<00:00, 51.18it/s]\n",
            "Epoch 1/10 - Testing: 100%|██████████| 375/375 [00:03<00:00, 97.23it/s] \n"
          ]
        },
        {
          "output_type": "stream",
          "name": "stdout",
          "text": [
            "Training Loss: 3.16783631447951 \t Test Loss: 0.6961359899044037\n"
          ]
        },
        {
          "output_type": "stream",
          "name": "stderr",
          "text": [
            "Epoch 2/10 - Training: 100%|██████████| 782/782 [00:15<00:00, 51.20it/s]\n",
            "Epoch 2/10 - Testing: 100%|██████████| 375/375 [00:02<00:00, 142.39it/s]\n"
          ]
        },
        {
          "output_type": "stream",
          "name": "stdout",
          "text": [
            "Training Loss: 0.32685648160551983 \t Test Loss: 0.6004725130796432\n"
          ]
        },
        {
          "output_type": "stream",
          "name": "stderr",
          "text": [
            "Epoch 3/10 - Training: 100%|██████████| 782/782 [00:15<00:00, 51.12it/s]\n",
            "Epoch 3/10 - Testing: 100%|██████████| 375/375 [00:02<00:00, 143.30it/s]\n"
          ]
        },
        {
          "output_type": "stream",
          "name": "stdout",
          "text": [
            "Training Loss: 0.3055389421880245 \t Test Loss: 1.0797079923152924\n"
          ]
        },
        {
          "output_type": "stream",
          "name": "stderr",
          "text": [
            "Epoch 4/10 - Training: 100%|██████████| 782/782 [00:15<00:00, 51.57it/s]\n",
            "Epoch 4/10 - Testing: 100%|██████████| 375/375 [00:04<00:00, 93.30it/s]\n"
          ]
        },
        {
          "output_type": "stream",
          "name": "stdout",
          "text": [
            "Training Loss: 0.32157494181394575 \t Test Loss: 0.8298569944699605\n"
          ]
        },
        {
          "output_type": "stream",
          "name": "stderr",
          "text": [
            "Epoch 5/10 - Training: 100%|██████████| 782/782 [00:15<00:00, 50.27it/s]\n",
            "Epoch 5/10 - Testing: 100%|██████████| 375/375 [00:02<00:00, 142.55it/s]\n"
          ]
        },
        {
          "output_type": "stream",
          "name": "stdout",
          "text": [
            "Training Loss: 0.2914831153303385 \t Test Loss: 0.5993122043609619\n"
          ]
        },
        {
          "output_type": "stream",
          "name": "stderr",
          "text": [
            "Epoch 6/10 - Training: 100%|██████████| 782/782 [00:19<00:00, 40.77it/s]\n",
            "Epoch 6/10 - Testing: 100%|██████████| 375/375 [00:03<00:00, 98.49it/s] \n"
          ]
        },
        {
          "output_type": "stream",
          "name": "stdout",
          "text": [
            "Training Loss: 0.27585549017290273 \t Test Loss: 0.5378888872861862\n"
          ]
        },
        {
          "output_type": "stream",
          "name": "stderr",
          "text": [
            "Epoch 7/10 - Training: 100%|██████████| 782/782 [00:25<00:00, 30.60it/s]\n",
            "Epoch 7/10 - Testing: 100%|██████████| 375/375 [00:02<00:00, 128.60it/s]\n"
          ]
        },
        {
          "output_type": "stream",
          "name": "stdout",
          "text": [
            "Training Loss: 0.2719623350203037 \t Test Loss: 0.5339740462700526\n"
          ]
        },
        {
          "output_type": "stream",
          "name": "stderr",
          "text": [
            "Epoch 8/10 - Training: 100%|██████████| 782/782 [00:30<00:00, 25.49it/s]\n",
            "Epoch 8/10 - Testing: 100%|██████████| 375/375 [00:02<00:00, 137.03it/s]\n"
          ]
        },
        {
          "output_type": "stream",
          "name": "stdout",
          "text": [
            "Training Loss: 0.2664204407334328 \t Test Loss: 0.5773544978300731\n"
          ]
        },
        {
          "output_type": "stream",
          "name": "stderr",
          "text": [
            "Epoch 9/10 - Training: 100%|██████████| 782/782 [00:41<00:00, 18.88it/s]\n",
            "Epoch 9/10 - Testing: 100%|██████████| 375/375 [00:03<00:00, 104.37it/s]\n"
          ]
        },
        {
          "output_type": "stream",
          "name": "stdout",
          "text": [
            "Training Loss: 0.2661888409157594 \t Test Loss: 0.5212955634991328\n"
          ]
        },
        {
          "output_type": "stream",
          "name": "stderr",
          "text": [
            "Epoch 10/10 - Training: 100%|██████████| 782/782 [00:44<00:00, 17.73it/s]\n",
            "Epoch 10/10 - Testing: 100%|██████████| 375/375 [00:02<00:00, 137.36it/s]\n"
          ]
        },
        {
          "output_type": "stream",
          "name": "stdout",
          "text": [
            "Training Loss: 0.26102608639001845 \t Test Loss: 0.7628260831038157\n"
          ]
        },
        {
          "output_type": "stream",
          "name": "stderr",
          "text": [
            "Epoch 1/10 - Training: 100%|██████████| 782/782 [00:15<00:00, 51.67it/s]\n",
            "Epoch 1/10 - Testing: 100%|██████████| 375/375 [00:02<00:00, 145.47it/s]\n"
          ]
        },
        {
          "output_type": "stream",
          "name": "stdout",
          "text": [
            "Training Loss: 5.822545525372028 \t Test Loss: 0.5917075935999553\n"
          ]
        },
        {
          "output_type": "stream",
          "name": "stderr",
          "text": [
            "Epoch 2/10 - Training: 100%|██████████| 782/782 [00:15<00:00, 49.36it/s]\n",
            "Epoch 2/10 - Testing: 100%|██████████| 375/375 [00:03<00:00, 119.03it/s]\n"
          ]
        },
        {
          "output_type": "stream",
          "name": "stdout",
          "text": [
            "Training Loss: 0.29796630357205867 \t Test Loss: 0.5649822023510933\n"
          ]
        },
        {
          "output_type": "stream",
          "name": "stderr",
          "text": [
            "Epoch 3/10 - Training: 100%|██████████| 782/782 [00:15<00:00, 50.65it/s]\n",
            "Epoch 3/10 - Testing: 100%|██████████| 375/375 [00:02<00:00, 143.43it/s]\n"
          ]
        },
        {
          "output_type": "stream",
          "name": "stdout",
          "text": [
            "Training Loss: 0.27856097034116584 \t Test Loss: 0.4943006470998128\n"
          ]
        },
        {
          "output_type": "stream",
          "name": "stderr",
          "text": [
            "Epoch 4/10 - Training: 100%|██████████| 782/782 [00:15<00:00, 49.97it/s]\n",
            "Epoch 4/10 - Testing: 100%|██████████| 375/375 [00:03<00:00, 121.11it/s]\n"
          ]
        },
        {
          "output_type": "stream",
          "name": "stdout",
          "text": [
            "Training Loss: 0.27168866800765196 \t Test Loss: 0.512252598643303\n"
          ]
        },
        {
          "output_type": "stream",
          "name": "stderr",
          "text": [
            "Epoch 5/10 - Training: 100%|██████████| 782/782 [00:16<00:00, 46.86it/s]\n",
            "Epoch 5/10 - Testing: 100%|██████████| 375/375 [00:02<00:00, 139.84it/s]\n"
          ]
        },
        {
          "output_type": "stream",
          "name": "stdout",
          "text": [
            "Training Loss: 0.2668871119270722 \t Test Loss: 0.5534438116550445\n"
          ]
        },
        {
          "output_type": "stream",
          "name": "stderr",
          "text": [
            "Epoch 6/10 - Training: 100%|██████████| 782/782 [00:19<00:00, 40.25it/s]\n",
            "Epoch 6/10 - Testing: 100%|██████████| 375/375 [00:03<00:00, 94.86it/s]\n"
          ]
        },
        {
          "output_type": "stream",
          "name": "stdout",
          "text": [
            "Training Loss: 0.24255538199841975 \t Test Loss: 0.5044092157681783\n"
          ]
        },
        {
          "output_type": "stream",
          "name": "stderr",
          "text": [
            "Epoch 7/10 - Training: 100%|██████████| 782/782 [00:25<00:00, 30.78it/s]\n",
            "Epoch 7/10 - Testing: 100%|██████████| 375/375 [00:03<00:00, 120.91it/s]\n"
          ]
        },
        {
          "output_type": "stream",
          "name": "stdout",
          "text": [
            "Training Loss: 0.23655242166419824 \t Test Loss: 0.6205205432573955\n"
          ]
        },
        {
          "output_type": "stream",
          "name": "stderr",
          "text": [
            "Epoch 8/10 - Training: 100%|██████████| 782/782 [00:31<00:00, 25.13it/s]\n",
            "Epoch 8/10 - Testing: 100%|██████████| 375/375 [00:02<00:00, 138.64it/s]\n"
          ]
        },
        {
          "output_type": "stream",
          "name": "stdout",
          "text": [
            "Training Loss: 0.23216824392974378 \t Test Loss: 0.4737894734342893\n"
          ]
        },
        {
          "output_type": "stream",
          "name": "stderr",
          "text": [
            "Epoch 9/10 - Training: 100%|██████████| 782/782 [00:40<00:00, 19.51it/s]\n",
            "Epoch 9/10 - Testing: 100%|██████████| 375/375 [00:03<00:00, 107.57it/s]\n"
          ]
        },
        {
          "output_type": "stream",
          "name": "stdout",
          "text": [
            "Training Loss: 0.23211938532193502 \t Test Loss: 0.5611137472391129\n"
          ]
        },
        {
          "output_type": "stream",
          "name": "stderr",
          "text": [
            "Epoch 10/10 - Training: 100%|██████████| 782/782 [00:43<00:00, 17.90it/s]\n",
            "Epoch 10/10 - Testing: 100%|██████████| 375/375 [00:02<00:00, 140.28it/s]"
          ]
        },
        {
          "output_type": "stream",
          "name": "stdout",
          "text": [
            "Training Loss: 0.22849595892926058 \t Test Loss: 0.717674429277579\n"
          ]
        },
        {
          "output_type": "stream",
          "name": "stderr",
          "text": [
            "\n"
          ]
        }
      ]
    },
    {
      "cell_type": "code",
      "source": [
        "\n",
        "\n",
        "\n",
        "\n",
        "\n",
        "\n",
        "\n",
        "\n",
        "\n",
        "\n",
        "\n",
        "\n",
        "\n",
        "# Calculate average test losses\n",
        "average_RMS_test_losses = np.mean(RMS_test_losses, axis=0)"
      ],
      "metadata": {
        "id": "SO89efZCSQ0Z"
      },
      "execution_count": null,
      "outputs": []
    },
    {
      "cell_type": "code",
      "source": [
        "plt.plot(average_SGD_test_losses, label='SGD')\n",
        "plt.plot(average_Adam_test_losses, label='Adam')\n",
        "plt.plot(average_RMS_test_losses, label='RMSprop')\n",
        "plt.title('Average Test Loss per Epoch')\n",
        "plt.xlabel('Epoch')\n",
        "plt.ylabel('Average Test Loss')\n",
        "plt.legend()\n",
        "plt.show()"
      ],
      "metadata": {
        "colab": {
          "base_uri": "https://localhost:8080/",
          "height": 472
        },
        "id": "gVzq8W1DSUS5",
        "outputId": "5d682937-71ac-4bc1-a5bf-91614453f859"
      },
      "execution_count": null,
      "outputs": [
        {
          "output_type": "display_data",
          "data": {
            "text/plain": [
              "<Figure size 640x480 with 1 Axes>"
            ],
            "image/png": "[encoded data removed]"
          },
          "metadata": {}
        }
      ]
    }
  ],
  "metadata": {
    "colab": {
      "provenance": [],
      "toc_visible": true
    },
    "kernelspec": {
      "display_name": "ASLenv",
      "language": "python",
      "name": "python3"
    },
    "language_info": {
      "codemirror_mode": {
        "name": "ipython",
        "version": 3
      },
      "file_extension": ".py",
      "mimetype": "text/x-python",
      "name": "python",
      "nbconvert_exporter": "python",
      "pygments_lexer": "ipython3",
      "version": "3.12.2"
    }
  },
  "nbformat": 4,
  "nbformat_minor": 0
}